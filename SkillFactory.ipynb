{
 "cells": [
  {
   "cell_type": "code",
   "execution_count": 1,
   "metadata": {},
   "outputs": [
    {
     "data": {
      "text/plain": [
       "4"
      ]
     },
     "execution_count": 1,
     "metadata": {},
     "output_type": "execute_result"
    }
   ],
   "source": [
    "2+2"
   ]
  },
  {
   "cell_type": "markdown",
   "metadata": {},
   "source": [
    "# Это заголовок первого уровня\n",
    "\n",
    "## А это заголовок второго уровня\n",
    "\n",
    "Список:\n",
    "\n",
    "- Первый элемент списка\n",
    "\n",
    "- Второй элемент списка"
   ]
  },
  {
   "cell_type": "code",
   "execution_count": 2,
   "metadata": {},
   "outputs": [
    {
     "data": {
      "text/plain": [
       "4"
      ]
     },
     "execution_count": 2,
     "metadata": {},
     "output_type": "execute_result"
    }
   ],
   "source": [
    "2+4"
   ]
  },
  {
   "cell_type": "code",
   "execution_count": 3,
   "metadata": {},
   "outputs": [
    {
     "data": {
      "text/plain": [
       "20.0"
      ]
     },
     "execution_count": 3,
     "metadata": {},
     "output_type": "execute_result"
    }
   ],
   "source": [
    "((67+33) / 25)*5 "
   ]
  },
  {
   "cell_type": "code",
   "execution_count": 4,
   "metadata": {},
   "outputs": [
    {
     "data": {
      "text/plain": [
       "17.414074767267998"
      ]
     },
     "execution_count": 4,
     "metadata": {},
     "output_type": "execute_result"
    }
   ],
   "source": [
    "(4 + 5*60 - 17 + 65 / 4) ** (1/2)"
   ]
  },
  {
   "cell_type": "code",
   "execution_count": 6,
   "metadata": {},
   "outputs": [
    {
     "data": {
      "text/plain": [
       "1916.7312813742387"
      ]
     },
     "execution_count": 6,
     "metadata": {},
     "output_type": "execute_result"
    }
   ],
   "source": [
    "6.996 + 45*(13/2)**2 + 2 * 18**(1/2)"
   ]
  },
  {
   "cell_type": "code",
   "execution_count": 9,
   "metadata": {},
   "outputs": [
    {
     "data": {
      "text/plain": [
       "-0.3909200032552083"
      ]
     },
     "execution_count": 9,
     "metadata": {},
     "output_type": "execute_result"
    }
   ],
   "source": [
    "(1267 - 20 * ((5**3) / 2)**2)/((8**5) * (36**(1/2)))"
   ]
  },
  {
   "cell_type": "code",
   "execution_count": 12,
   "metadata": {},
   "outputs": [
    {
     "data": {
      "text/plain": [
       "-4251528.0"
      ]
     },
     "execution_count": 12,
     "metadata": {},
     "output_type": "execute_result"
    }
   ],
   "source": [
    "((((9**(1/2))**3)**2)**2) / (-2)**(-3)"
   ]
  },
  {
   "cell_type": "code",
   "execution_count": 13,
   "metadata": {},
   "outputs": [
    {
     "data": {
      "text/plain": [
       "'hey!'"
      ]
     },
     "execution_count": 13,
     "metadata": {},
     "output_type": "execute_result"
    }
   ],
   "source": [
    "'hey'+'!'"
   ]
  },
  {
   "cell_type": "code",
   "execution_count": 14,
   "metadata": {},
   "outputs": [
    {
     "data": {
      "text/plain": [
       "float"
      ]
     },
     "execution_count": 14,
     "metadata": {},
     "output_type": "execute_result"
    }
   ],
   "source": [
    "type(2+3.4)"
   ]
  },
  {
   "cell_type": "code",
   "execution_count": 15,
   "metadata": {},
   "outputs": [
    {
     "data": {
      "text/plain": [
       "int"
      ]
     },
     "execution_count": 15,
     "metadata": {},
     "output_type": "execute_result"
    }
   ],
   "source": [
    "type(2+3)"
   ]
  },
  {
   "cell_type": "code",
   "execution_count": 16,
   "metadata": {},
   "outputs": [
    {
     "data": {
      "text/plain": [
       "2"
      ]
     },
     "execution_count": 16,
     "metadata": {},
     "output_type": "execute_result"
    }
   ],
   "source": [
    "int(2.4)"
   ]
  },
  {
   "cell_type": "code",
   "execution_count": 17,
   "metadata": {},
   "outputs": [
    {
     "data": {
      "text/plain": [
       "16"
      ]
     },
     "execution_count": 17,
     "metadata": {},
     "output_type": "execute_result"
    }
   ],
   "source": [
    "4**2"
   ]
  },
  {
   "cell_type": "code",
   "execution_count": 19,
   "metadata": {},
   "outputs": [
    {
     "data": {
      "text/plain": [
       "float"
      ]
     },
     "execution_count": 19,
     "metadata": {},
     "output_type": "execute_result"
    }
   ],
   "source": [
    "type(4**(1/2))"
   ]
  },
  {
   "cell_type": "code",
   "execution_count": 20,
   "metadata": {},
   "outputs": [
    {
     "name": "stdout",
     "output_type": "stream",
     "text": [
      "Сегодня вас зовут Алексей\n"
     ]
    }
   ],
   "source": [
    "name = 'Алексей'\n",
    "print('Сегодня Вас зовут {}'.format(name))"
   ]
  },
  {
   "cell_type": "code",
   "execution_count": 21,
   "metadata": {},
   "outputs": [
    {
     "name": "stdout",
     "output_type": "stream",
     "text": [
      "1700.0\n"
     ]
    }
   ],
   "source": [
    "a, b, c = 12, 17, 25\n",
    "print(a*b*c / 3)"
   ]
  },
  {
   "cell_type": "code",
   "execution_count": 22,
   "metadata": {},
   "outputs": [
    {
     "name": "stdout",
     "output_type": "stream",
     "text": [
      "1700.0\n"
     ]
    }
   ],
   "source": [
    "a, b, c = 12, 17, 25\n",
    "print((a*b*c)** 1/3)\n"
   ]
  },
  {
   "cell_type": "code",
   "execution_count": null,
   "metadata": {},
   "outputs": [],
   "source": []
  },
  {
   "cell_type": "code",
   "execution_count": 23,
   "metadata": {},
   "outputs": [
    {
     "name": "stdout",
     "output_type": "stream",
     "text": [
      "17.213006207263156\n"
     ]
    }
   ],
   "source": [
    "a, b, c = 12, 17, 25\n",
    "print((a*b*c)** (1/3))\n"
   ]
  },
  {
   "cell_type": "code",
   "execution_count": 24,
   "metadata": {},
   "outputs": [
    {
     "name": "stdout",
     "output_type": "stream",
     "text": [
      "24.691358024691358\n"
     ]
    }
   ],
   "source": [
    "w, h = 80, 1.8\n",
    "print(w / (h ** 2))"
   ]
  },
  {
   "cell_type": "code",
   "execution_count": 25,
   "metadata": {},
   "outputs": [
    {
     "name": "stdout",
     "output_type": "stream",
     "text": [
      "24.691358024691358\n"
     ]
    }
   ],
   "source": [
    "w, h = 80, 1.8\n",
    "print(w / h ** 2)"
   ]
  },
  {
   "cell_type": "code",
   "execution_count": 27,
   "metadata": {},
   "outputs": [
    {
     "name": "stdout",
     "output_type": "stream",
     "text": [
      "13\n"
     ]
    }
   ],
   "source": [
    "number = 169\n",
    "p = 1/2\n",
    "result = number ** p\n",
    "if result - int(result) == 0:\n",
    "    print(int(result))\n",
    "else:\n",
    "    print(\"Квадратный корень из {} - не целое число\".format(number))"
   ]
  },
  {
   "cell_type": "code",
   "execution_count": 28,
   "metadata": {},
   "outputs": [
    {
     "data": {
      "text/plain": [
       "30.470914127423825"
      ]
     },
     "execution_count": 28,
     "metadata": {},
     "output_type": "execute_result"
    }
   ],
   "source": [
    "110 / (1.9**2)"
   ]
  },
  {
   "cell_type": "code",
   "execution_count": 29,
   "metadata": {},
   "outputs": [
    {
     "data": {
      "text/plain": [
       "27.70083102493075"
      ]
     },
     "execution_count": 29,
     "metadata": {},
     "output_type": "execute_result"
    }
   ],
   "source": [
    "100 / (1.9**2)"
   ]
  },
  {
   "cell_type": "code",
   "execution_count": 30,
   "metadata": {},
   "outputs": [
    {
     "data": {
      "text/plain": [
       "90.2139"
      ]
     },
     "execution_count": 30,
     "metadata": {},
     "output_type": "execute_result"
    }
   ],
   "source": [
    "24.99 * 1.9 ** 2"
   ]
  },
  {
   "cell_type": "code",
   "execution_count": 31,
   "metadata": {},
   "outputs": [
    {
     "data": {
      "text/plain": [
       "24.99"
      ]
     },
     "execution_count": 31,
     "metadata": {},
     "output_type": "execute_result"
    }
   ],
   "source": [
    "90.2139 / (1.9**2)"
   ]
  },
  {
   "cell_type": "code",
   "execution_count": 32,
   "metadata": {},
   "outputs": [
    {
     "data": {
      "text/plain": [
       "91.16601899999999"
      ]
     },
     "execution_count": 32,
     "metadata": {},
     "output_type": "execute_result"
    }
   ],
   "source": [
    "24.99 * 1.91 ** 2"
   ]
  },
  {
   "cell_type": "code",
   "execution_count": 33,
   "metadata": {},
   "outputs": [
    {
     "data": {
      "text/plain": [
       "24.99"
      ]
     },
     "execution_count": 33,
     "metadata": {},
     "output_type": "execute_result"
    }
   ],
   "source": [
    "90.2139 / 1.9**2"
   ]
  },
  {
   "cell_type": "code",
   "execution_count": 35,
   "metadata": {},
   "outputs": [
    {
     "ename": "IndentationError",
     "evalue": "unindent does not match any outer indentation level (<tokenize>, line 8)",
     "output_type": "error",
     "traceback": [
      "\u001b[1;36m  File \u001b[1;32m\"<tokenize>\"\u001b[1;36m, line \u001b[1;32m8\u001b[0m\n\u001b[1;33m    else:\u001b[0m\n\u001b[1;37m    ^\u001b[0m\n\u001b[1;31mIndentationError\u001b[0m\u001b[1;31m:\u001b[0m unindent does not match any outer indentation level\n"
     ]
    }
   ],
   "source": [
    "number = 452\n",
    "if number % 2 == 0:\n",
    "    print('Число делится на 2 без остатка.')\n",
    "elif number % 3 == 0:\n",
    "    print('Число делится на 3 без остатка.')\n",
    "elif number % 5 == 0:\n",
    "    print('Число делится на 5 без остатка.')\n",
    " else:\n",
    "    print('Число не делится ни на 2, ни на 3, ни на 5 без остатка!')"
   ]
  },
  {
   "cell_type": "code",
   "execution_count": 36,
   "metadata": {},
   "outputs": [
    {
     "name": "stdout",
     "output_type": "stream",
     "text": [
      "Ане понравятся эти цветы\n"
     ]
    }
   ],
   "source": [
    "flower = 'роза'\n",
    "color = 'фиолетовый'\n",
    "def anya_likes(flower: str, color: str) -> bool:\n",
    "    if flower == 'роза' or color in ['синий', 'белый']:\n",
    "        return True\n",
    "    return False\n",
    "if anya_likes(flower, color):\n",
    "    print('Ане понравятся эти цветы')\n",
    "else:\n",
    "    print('Аня не фанат таких цветов')"
   ]
  },
  {
   "cell_type": "code",
   "execution_count": 38,
   "metadata": {},
   "outputs": [
    {
     "name": "stdout",
     "output_type": "stream",
     "text": [
      "Вова, это нужное число\n"
     ]
    }
   ],
   "source": [
    "number = 346\n",
    "nums = [2, 5, 173, 821]\n",
    "if any(number % x == 0 for x in nums):\n",
    "    print('Вова, это нужное число')\n",
    "else:\n",
    "    print('Вова, в этот раз ты не попал')\n",
    "    "
   ]
  },
  {
   "cell_type": "code",
   "execution_count": 39,
   "metadata": {},
   "outputs": [
    {
     "name": "stdout",
     "output_type": "stream",
     "text": [
      "Python\n"
     ]
    }
   ],
   "source": [
    "fav_word = 'Аппликация'\n",
    "words_langs = {'Python': [\"рептилия\", \"питон\", \"змея\"], 'C++': [\"плюс\", \"плюсы\"], 'Ruby': [\"рубин\", \"кристалл\"]}\n",
    "\n",
    "def fav_lang(word: str, w_l: dict) -> str:\n",
    "    for k, v in w_l.items():\n",
    "        if word in v:\n",
    "            return k\n",
    "    return \"Python\"\n",
    "print(fav_lang(fav_word, words_langs))"
   ]
  },
  {
   "cell_type": "code",
   "execution_count": 40,
   "metadata": {},
   "outputs": [
    {
     "name": "stdout",
     "output_type": "stream",
     "text": [
      "Преподаватель занят.\n"
     ]
    }
   ],
   "source": [
    "hour, minute = 18, 47\n",
    "c_hour = hour + minute / 60\n",
    "if c_hour < 10:\n",
    "    print('Преподаватель занят.')\n",
    "elif c_hour > 20:\n",
    "    print('Преподаватель занят.')\n",
    "elif c_hour >= 10.5 and c_hour <=12:\n",
    "    print('Преподаватель занят.')\n",
    "elif c_hour >= 13 + 40/60 and c_hour <= 15:\n",
    "    print('Преподаватель занят.')\n",
    "elif c_hour >= 18 and c_hour <= 19.5:\n",
    "    print('Преподаватель занят.')\n",
    "else:\n",
    "    print('Преподаватель свободен.')"
   ]
  },
  {
   "cell_type": "code",
   "execution_count": 41,
   "metadata": {},
   "outputs": [
    {
     "name": "stdout",
     "output_type": "stream",
     "text": [
      "пдинк\n"
     ]
    }
   ],
   "source": [
    "word = 'подшипник'\n",
    "r = ''\n",
    "for i, c in enumerate(word):\n",
    "    if i % 2 == 0:\n",
    "        r += c\n",
    "print(r)"
   ]
  },
  {
   "cell_type": "code",
   "execution_count": 42,
   "metadata": {},
   "outputs": [
    {
     "name": "stdout",
     "output_type": "stream",
     "text": [
      "пдинк\n"
     ]
    }
   ],
   "source": [
    "word = 'подшипник'\n",
    "r = ''\n",
    "for i, c in enumerate(word):\n",
    "    if i % 2 == 0:\n",
    "        r += c\n",
    "print(r)"
   ]
  },
  {
   "cell_type": "code",
   "execution_count": 43,
   "metadata": {},
   "outputs": [
    {
     "ename": "SyntaxError",
     "evalue": "f-string: empty expression not allowed (<ipython-input-43-500c369b9cac>, line 13)",
     "output_type": "error",
     "traceback": [
      "\u001b[1;36m  File \u001b[1;32m\"<ipython-input-43-500c369b9cac>\"\u001b[1;36m, line \u001b[1;32m13\u001b[0m\n\u001b[1;33m    print(f'{} год невисокосный')\u001b[0m\n\u001b[1;37m         ^\u001b[0m\n\u001b[1;31mSyntaxError\u001b[0m\u001b[1;31m:\u001b[0m f-string: empty expression not allowed\n"
     ]
    }
   ],
   "source": [
    "year_1 = 2013\n",
    "year_2 = 2020\n",
    "\n",
    "\n",
    "def is_leap_year(year: int) -> bool:\n",
    "    return year % 4 == 0 and year % 100 != 0 or year % 400 == 0\n",
    "    \n",
    "\n",
    "for y in range(year_1, year_2 + 1):\n",
    "    if is_leap_year(y):\n",
    "        print(f'{y} год високосный')\n",
    "    else:\n",
    "        print(f'{} год невисокосный')"
   ]
  },
  {
   "cell_type": "code",
   "execution_count": 44,
   "metadata": {},
   "outputs": [
    {
     "name": "stdout",
     "output_type": "stream",
     "text": [
      "2013 год невисокосный\n",
      "2014 год невисокосный\n",
      "2015 год невисокосный\n",
      "2016 год високосный\n",
      "2017 год невисокосный\n",
      "2018 год невисокосный\n",
      "2019 год невисокосный\n",
      "2020 год високосный\n"
     ]
    }
   ],
   "source": [
    "year_1 = 2013\n",
    "year_2 = 2020\n",
    "\n",
    "\n",
    "def is_leap_year(year: int) -> bool:\n",
    "    return year % 4 == 0 and year % 100 != 0 or year % 400 == 0\n",
    "    \n",
    "\n",
    "for y in range(year_1, year_2 + 1):\n",
    "    if is_leap_year(y):\n",
    "        print(f'{y} год високосный')\n",
    "    else:\n",
    "        print(f'{y} год невисокосный')"
   ]
  },
  {
   "cell_type": "code",
   "execution_count": 45,
   "metadata": {},
   "outputs": [
    {
     "ename": "NameError",
     "evalue": "name 'а' is not defined",
     "output_type": "error",
     "traceback": [
      "\u001b[1;31m---------------------------------------------------------------------------\u001b[0m",
      "\u001b[1;31mNameError\u001b[0m                                 Traceback (most recent call last)",
      "\u001b[1;32m<ipython-input-45-217ad7ca50cb>\u001b[0m in \u001b[0;36m<module>\u001b[1;34m\u001b[0m\n\u001b[0;32m      1\u001b[0m \u001b[0mword\u001b[0m \u001b[1;33m=\u001b[0m \u001b[1;34m'Зимушка-зима'\u001b[0m\u001b[1;33m\u001b[0m\u001b[1;33m\u001b[0m\u001b[0m\n\u001b[1;32m----> 2\u001b[1;33m \u001b[0mvowel_chars\u001b[0m \u001b[1;33m=\u001b[0m \u001b[1;33m(\u001b[0m\u001b[0mа\u001b[0m\u001b[1;33m,\u001b[0m \u001b[0mу\u001b[0m\u001b[1;33m,\u001b[0m \u001b[0mо\u001b[0m\u001b[1;33m,\u001b[0m \u001b[0mы\u001b[0m\u001b[1;33m,\u001b[0m \u001b[0mи\u001b[0m\u001b[1;33m,\u001b[0m \u001b[0mэ\u001b[0m\u001b[1;33m,\u001b[0m \u001b[0mя\u001b[0m\u001b[1;33m,\u001b[0m \u001b[0mю\u001b[0m\u001b[1;33m,\u001b[0m \u001b[0mё\u001b[0m\u001b[1;33m,\u001b[0m \u001b[0mе\u001b[0m\u001b[1;33m)\u001b[0m\u001b[1;33m\u001b[0m\u001b[1;33m\u001b[0m\u001b[0m\n\u001b[0m\u001b[0;32m      3\u001b[0m \u001b[1;32mfor\u001b[0m \u001b[0mc\u001b[0m \u001b[1;32min\u001b[0m \u001b[0mword\u001b[0m\u001b[1;33m:\u001b[0m\u001b[1;33m\u001b[0m\u001b[1;33m\u001b[0m\u001b[0m\n\u001b[0;32m      4\u001b[0m     \u001b[1;32mif\u001b[0m \u001b[0mlower\u001b[0m\u001b[1;33m(\u001b[0m\u001b[0mc\u001b[0m\u001b[1;33m)\u001b[0m \u001b[1;32min\u001b[0m \u001b[0mvowel_chars\u001b[0m\u001b[1;33m:\u001b[0m\u001b[1;33m\u001b[0m\u001b[1;33m\u001b[0m\u001b[0m\n\u001b[0;32m      5\u001b[0m         \u001b[0mprint\u001b[0m\u001b[1;33m(\u001b[0m\u001b[0mc\u001b[0m\u001b[1;33m)\u001b[0m\u001b[1;33m\u001b[0m\u001b[1;33m\u001b[0m\u001b[0m\n",
      "\u001b[1;31mNameError\u001b[0m: name 'а' is not defined"
     ]
    }
   ],
   "source": [
    "word = 'Зимушка-зима'\n",
    "vowel_chars = (а, у, о, ы, и, э, я, ю, ё, е)\n",
    "for c in word:\n",
    "    if lower(c) in vowel_chars:\n",
    "        print(c)"
   ]
  },
  {
   "cell_type": "code",
   "execution_count": 46,
   "metadata": {},
   "outputs": [
    {
     "ename": "NameError",
     "evalue": "name 'lower' is not defined",
     "output_type": "error",
     "traceback": [
      "\u001b[1;31m---------------------------------------------------------------------------\u001b[0m",
      "\u001b[1;31mNameError\u001b[0m                                 Traceback (most recent call last)",
      "\u001b[1;32m<ipython-input-46-9afca4797589>\u001b[0m in \u001b[0;36m<module>\u001b[1;34m\u001b[0m\n\u001b[0;32m      2\u001b[0m \u001b[0mvowel_chars\u001b[0m \u001b[1;33m=\u001b[0m \u001b[1;33m(\u001b[0m\u001b[1;34m'а'\u001b[0m\u001b[1;33m,\u001b[0m \u001b[1;34m'у'\u001b[0m\u001b[1;33m,\u001b[0m \u001b[1;34m'о'\u001b[0m\u001b[1;33m,\u001b[0m \u001b[1;34m'ы'\u001b[0m\u001b[1;33m,\u001b[0m \u001b[1;34m'и'\u001b[0m\u001b[1;33m,\u001b[0m \u001b[1;34m'э'\u001b[0m\u001b[1;33m,\u001b[0m \u001b[1;34m'я'\u001b[0m\u001b[1;33m,\u001b[0m \u001b[1;34m'ю'\u001b[0m\u001b[1;33m,\u001b[0m \u001b[1;34m'ё'\u001b[0m\u001b[1;33m,\u001b[0m \u001b[1;34m'е'\u001b[0m\u001b[1;33m)\u001b[0m\u001b[1;33m\u001b[0m\u001b[1;33m\u001b[0m\u001b[0m\n\u001b[0;32m      3\u001b[0m \u001b[1;32mfor\u001b[0m \u001b[0mc\u001b[0m \u001b[1;32min\u001b[0m \u001b[0mword\u001b[0m\u001b[1;33m:\u001b[0m\u001b[1;33m\u001b[0m\u001b[1;33m\u001b[0m\u001b[0m\n\u001b[1;32m----> 4\u001b[1;33m     \u001b[1;32mif\u001b[0m \u001b[0mlower\u001b[0m\u001b[1;33m(\u001b[0m\u001b[0mc\u001b[0m\u001b[1;33m)\u001b[0m \u001b[1;32min\u001b[0m \u001b[0mvowel_chars\u001b[0m\u001b[1;33m:\u001b[0m\u001b[1;33m\u001b[0m\u001b[1;33m\u001b[0m\u001b[0m\n\u001b[0m\u001b[0;32m      5\u001b[0m         \u001b[0mprint\u001b[0m\u001b[1;33m(\u001b[0m\u001b[0mc\u001b[0m\u001b[1;33m)\u001b[0m\u001b[1;33m\u001b[0m\u001b[1;33m\u001b[0m\u001b[0m\n",
      "\u001b[1;31mNameError\u001b[0m: name 'lower' is not defined"
     ]
    }
   ],
   "source": [
    "word = 'Зимушка-зима'\n",
    "vowel_chars = ('а', 'у', 'о', 'ы', 'и', 'э', 'я', 'ю', 'ё', 'е')\n",
    "for c in word:\n",
    "    if lower(c) in vowel_chars:\n",
    "        print(c)"
   ]
  },
  {
   "cell_type": "code",
   "execution_count": 47,
   "metadata": {},
   "outputs": [
    {
     "name": "stdout",
     "output_type": "stream",
     "text": [
      "и\n",
      "у\n",
      "а\n",
      "и\n",
      "а\n"
     ]
    }
   ],
   "source": [
    "word = 'Зимушка-зима'\n",
    "vowel_chars = ('а', 'у', 'о', 'ы', 'и', 'э', 'я', 'ю', 'ё', 'е')\n",
    "for c in word:\n",
    "    if c.lower() in vowel_chars:\n",
    "        print(c)"
   ]
  },
  {
   "cell_type": "code",
   "execution_count": 48,
   "metadata": {},
   "outputs": [
    {
     "name": "stdout",
     "output_type": "stream",
     "text": [
      "Буква 0 в этом имени - С\n",
      "Буква 1 в этом имени - е\n",
      "Буква 2 в этом имени - р\n",
      "Буква 3 в этом имени - г\n",
      "Буква 4 в этом имени - е\n",
      "Буква 5 в этом имени - й\n"
     ]
    }
   ],
   "source": [
    "name = 'Сергей'\n",
    "for i, c in enumerate(name):\n",
    "    print(f'Буква {i} в этом имени - {c}')"
   ]
  },
  {
   "cell_type": "code",
   "execution_count": 49,
   "metadata": {},
   "outputs": [
    {
     "name": "stdout",
     "output_type": "stream",
     "text": [
      "25\n",
      "27\n",
      "30\n",
      "33\n",
      "35\n",
      "36\n",
      "39\n",
      "40\n",
      "42\n",
      "45\n"
     ]
    }
   ],
   "source": [
    "num_1 = 25\n",
    "num_2 = 45\n",
    "if num_2 < num_1 or num_1 < 0:\n",
    "    print('Введён неверный диапазон чисел')\n",
    "    exit(1)\n",
    "for i in range(num_1, num_2 + 1):\n",
    "    if i % 3 == 0 or i % 5 == 0:\n",
    "        print(i)"
   ]
  },
  {
   "cell_type": "code",
   "execution_count": 50,
   "metadata": {},
   "outputs": [
    {
     "name": "stdout",
     "output_type": "stream",
     "text": [
      "1 1 1\n",
      "2 4 8\n",
      "3 9 27\n",
      "4 16 64\n",
      "5 25 125\n",
      "6 36 216\n",
      "7 49 343\n",
      "8 64 512\n",
      "9 81 729\n",
      "10 100 1000\n"
     ]
    }
   ],
   "source": [
    "for i in range(1, 11):\n",
    "    print(f'{i} {i**2} {i**3}')"
   ]
  },
  {
   "cell_type": "code",
   "execution_count": 51,
   "metadata": {},
   "outputs": [
    {
     "name": "stdout",
     "output_type": "stream",
     "text": [
      "1\n",
      "2\n",
      "3\n",
      "4\n",
      "6\n",
      "7\n",
      "12\n",
      "14\n",
      "21\n",
      "28\n",
      "84\n"
     ]
    }
   ],
   "source": [
    "#number = int(input())\n",
    "number = 84\n",
    "\n",
    "for i in range(1, number // 2):\n",
    "    if number % i == 0:\n",
    "        print(i)\n",
    "print(number)            "
   ]
  },
  {
   "cell_type": "code",
   "execution_count": 52,
   "metadata": {},
   "outputs": [
    {
     "name": "stdout",
     "output_type": "stream",
     "text": [
      "1\n",
      "2\n",
      "3\n",
      "4\n",
      "6\n",
      "7\n",
      "12\n",
      "14\n",
      "21\n",
      "28\n",
      "42\n",
      "84\n"
     ]
    }
   ],
   "source": [
    "#number = int(input())\n",
    "number = 84\n",
    "\n",
    "for i in range(1, number // 2 + 1):\n",
    "    if number % i == 0:\n",
    "        print(i)\n",
    "print(number)            "
   ]
  },
  {
   "cell_type": "code",
   "execution_count": 60,
   "metadata": {},
   "outputs": [
    {
     "name": "stdout",
     "output_type": "stream",
     "text": [
      "2\n"
     ]
    }
   ],
   "source": [
    "#num_1 = int(input())\n",
    "#num_2 = int(input())\n",
    "num_1 = 12\n",
    "num_2 = 38\n",
    "den_1, den2 = set(), set()\n",
    "\n",
    "def find_all_den(num: int) -> set:\n",
    "    result = set()\n",
    "    for i in range(2, num // 2 + 1):\n",
    "        if num % i == 0:\n",
    "            result.add(i)\n",
    "    return result\n",
    "den_1, den_2 = find_all_den(num_1), find_all_den(num_2)\n",
    "for i in den_1.intersection(den_2):\n",
    "    print(i)"
   ]
  },
  {
   "cell_type": "code",
   "execution_count": 55,
   "metadata": {},
   "outputs": [
    {
     "name": "stdout",
     "output_type": "stream",
     "text": [
      "{2, 3, 4, 6}\n",
      "{2, 19}\n"
     ]
    }
   ],
   "source": [
    "print(den_1)\n",
    "print(den_2)"
   ]
  },
  {
   "cell_type": "code",
   "execution_count": 68,
   "metadata": {},
   "outputs": [
    {
     "name": "stdout",
     "output_type": "stream",
     "text": [
      "55\n"
     ]
    }
   ],
   "source": [
    "n = 10\n",
    "pair = [1, 1]\n",
    "for i in range(n - 2):\n",
    "    pair[0], pair[1] = pair[1], pair[0] + pair[1]\n",
    "print(pair[1])"
   ]
  },
  {
   "cell_type": "code",
   "execution_count": 69,
   "metadata": {},
   "outputs": [
    {
     "name": "stdout",
     "output_type": "stream",
     "text": [
      "15 X 1 = 15\n",
      "15 X 2 = 30\n",
      "15 X 3 = 45\n",
      "15 X 4 = 60\n",
      "15 X 5 = 75\n",
      "15 X 6 = 90\n",
      "15 X 7 = 105\n",
      "15 X 8 = 120\n",
      "15 X 9 = 135\n",
      "15 X 10 = 150\n"
     ]
    }
   ],
   "source": [
    "number = 15\n",
    "for i in range(1, 11):\n",
    "    print(f'{number} X {i} = {number * i}')"
   ]
  },
  {
   "cell_type": "code",
   "execution_count": 70,
   "metadata": {},
   "outputs": [
    {
     "name": "stdout",
     "output_type": "stream",
     "text": [
      "4\n"
     ]
    }
   ],
   "source": [
    "#num_1 = int(input())\n",
    "#num_2 = int(input())\n",
    "num_1 = 1812\n",
    "num_2 = 2500\n",
    "def gcd(a, b):\n",
    "    if a == 1 or b == 1:\n",
    "        return('Общих делителей не найдено')\n",
    "    if a == 0:\n",
    "        return b\n",
    "    if b == 0:\n",
    "        return a\n",
    "    if a >= b:\n",
    "        return gcd(a % b, b)\n",
    "    if b >= a:\n",
    "        return gcd(b % a, a)\n",
    "print(gcd(num_1, num_2))"
   ]
  },
  {
   "cell_type": "code",
   "execution_count": 71,
   "metadata": {},
   "outputs": [
    {
     "name": "stdout",
     "output_type": "stream",
     "text": [
      "стркция\n"
     ]
    }
   ],
   "source": [
    "#string = input()\n",
    "string = 'абстракция'\n",
    "restricted_chars = ['а', 'б', 'в']\n",
    "result = ''\n",
    "for c in string:\n",
    "    if c in restricted_chars:\n",
    "        continue\n",
    "    result += c\n",
    "print(result)"
   ]
  },
  {
   "cell_type": "code",
   "execution_count": 72,
   "metadata": {},
   "outputs": [
    {
     "name": "stdout",
     "output_type": "stream",
     "text": [
      "Увы, это неправильный ответ\n",
      "Увы, это неправильный ответ\n",
      "Увы, это неправильный ответ\n",
      "Увы, это неправильный ответ\n",
      "Увы, это неправильный ответ\n",
      "Это безнадёжно!\n"
     ]
    }
   ],
   "source": [
    "string = 'Нет'\n",
    "for i in range(5):\n",
    "    if string == 'Нет':\n",
    "        print('Увы, это неправильный ответ')\n",
    "    elif string == 'Да':\n",
    "        print('Это отлично!')\n",
    "        break\n",
    "print('Это безнадёжно!')"
   ]
  },
  {
   "cell_type": "code",
   "execution_count": 76,
   "metadata": {},
   "outputs": [
    {
     "name": "stdout",
     "output_type": "stream",
     "text": [
      "0 п\n",
      "1 р\n",
      "2 е\n",
      "Строка мне не нравится!\n"
     ]
    }
   ],
   "source": [
    "vowel_chars = ('а', 'у', 'о', 'ы', 'и', 'э', 'я', 'ю', 'ё', 'е')\n",
    "string = 'прелестная строка'\n",
    "good = True\n",
    "for i, c in enumerate(string):\n",
    "    if i % 2 == 0 and c in vowel_chars:\n",
    "        good = False\n",
    "        break\n",
    "if good:\n",
    "    print('Какая хорошая строка!')\n",
    "else:\n",
    "    print('Строка мне не нравится!')"
   ]
  },
  {
   "cell_type": "code",
   "execution_count": 74,
   "metadata": {},
   "outputs": [
    {
     "name": "stdout",
     "output_type": "stream",
     "text": [
      "Какая хорошая строка!\n"
     ]
    }
   ],
   "source": [
    "vowel_chars = ('а', 'у', 'о', 'ы', 'и', 'э', 'я', 'ю', 'ё', 'е')\n",
    "string = 'прелестная строка'\n",
    "good = True\n",
    "for i, c in enumerate(string):\n",
    "    if i % 2 == 1 and c in vowel_chars:\n",
    "        good = False\n",
    "        break\n",
    "if good:\n",
    "    print('Строка мне не нравится!')\n",
    "else:\n",
    "    print('Какая хорошая строка!')"
   ]
  },
  {
   "cell_type": "code",
   "execution_count": 77,
   "metadata": {},
   "outputs": [
    {
     "name": "stdout",
     "output_type": "stream",
     "text": [
      "19\n"
     ]
    }
   ],
   "source": [
    "#Y = int(input())\n",
    "#Z = int(input())\n",
    "Y = 170000\n",
    "Z = 1000000\n",
    "i = 0\n",
    "while Y <= Z:\n",
    "    i += 1\n",
    "    Y *= 1.1\n",
    "print(i)"
   ]
  },
  {
   "cell_type": "code",
   "execution_count": 78,
   "metadata": {},
   "outputs": [
    {
     "name": "stdout",
     "output_type": "stream",
     "text": [
      "Перевес 62 кг\n"
     ]
    }
   ],
   "source": [
    "weight = 77\n",
    "total = 0\n",
    "while total <= 400:\n",
    "    total += weight\n",
    "print(f'Перевес {total - 400} кг')"
   ]
  },
  {
   "cell_type": "code",
   "execution_count": 79,
   "metadata": {},
   "outputs": [
    {
     "name": "stdout",
     "output_type": "stream",
     "text": [
      "7\n"
     ]
    }
   ],
   "source": [
    "current_health = 500\n",
    "attack = 80\n",
    "seconds = 0\n",
    "while current_health > 0:\n",
    "    seconds += 1\n",
    "    current_health -= attack\n",
    "print(seconds)"
   ]
  },
  {
   "cell_type": "code",
   "execution_count": 80,
   "metadata": {},
   "outputs": [
    {
     "name": "stdout",
     "output_type": "stream",
     "text": [
      "20\n"
     ]
    }
   ],
   "source": [
    "max_volume = 1000\n",
    "amount = 5\n",
    "i = 0\n",
    "current_volume = 0\n",
    "while current_volume <= max_volume:\n",
    "    current_volume += amount\n",
    "    amount += 5\n",
    "    i += 1\n",
    "print(i)"
   ]
  },
  {
   "cell_type": "code",
   "execution_count": 81,
   "metadata": {},
   "outputs": [
    {
     "name": "stdout",
     "output_type": "stream",
     "text": [
      "20\n"
     ]
    }
   ],
   "source": [
    "volume = 1000\n",
    "amount = 5\n",
    "i = 0\n",
    "current_volume = 0\n",
    "while volume > 0:\n",
    "    volume -= amount\n",
    "    amount += 5\n",
    "    i += 1\n",
    "print(i)"
   ]
  },
  {
   "cell_type": "code",
   "execution_count": null,
   "metadata": {},
   "outputs": [],
   "source": []
  }
 ],
 "metadata": {
  "kernelspec": {
   "display_name": "Python 3",
   "language": "python",
   "name": "python3"
  },
  "language_info": {
   "codemirror_mode": {
    "name": "ipython",
    "version": 3
   },
   "file_extension": ".py",
   "mimetype": "text/x-python",
   "name": "python",
   "nbconvert_exporter": "python",
   "pygments_lexer": "ipython3",
   "version": "3.7.3"
  }
 },
 "nbformat": 4,
 "nbformat_minor": 2
}
