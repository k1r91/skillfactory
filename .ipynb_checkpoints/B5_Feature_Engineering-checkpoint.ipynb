{
 "cells": [
  {
   "cell_type": "code",
   "execution_count": 1,
   "metadata": {},
   "outputs": [],
   "source": [
    "import pandas as pd\n",
    "import os\n",
    "import chardet\n",
    "import numpy as np\n",
    "import math"
   ]
  },
  {
   "cell_type": "code",
   "execution_count": 2,
   "metadata": {},
   "outputs": [
    {
     "name": "stdout",
     "output_type": "stream",
     "text": [
      "Logs file encoding is utf-8\n",
      "Users file encoding is KOI8-R\n"
     ]
    }
   ],
   "source": [
    "# change folder for your data directory\n",
    "import os\n",
    "\n",
    "folder = 'C:\\\\Users\\\\kirill.n.cherkasov\\\\Desktop\\\\Pyprojects\\\\skillfactory\\\\data'\n",
    "log_file = os.path.join(folder, 'log.xls')\n",
    "users_file = os.path.join(folder, 'users.xls')\n",
    "\n",
    "# Определяем кодировки\n",
    "\n",
    "with open(log_file, 'rb') as f:\n",
    "    logs_encoding = chardet.detect(f.read())['encoding']\n",
    "    print(f'Logs file encoding is {logs_encoding}')\n",
    "with open(users_file, 'rb') as f:\n",
    "    users_encoding = chardet.detect(f.read())['encoding']\n",
    "    print(f'Users file encoding is {users_encoding}')"
   ]
  },
  {
   "cell_type": "code",
   "execution_count": 3,
   "metadata": {},
   "outputs": [],
   "source": [
    "df_logs = pd.read_csv(log_file, header=None)\n",
    "df_users = pd.read_csv(users_file, encoding=users_encoding)"
   ]
  },
  {
   "cell_type": "code",
   "execution_count": 4,
   "metadata": {},
   "outputs": [
    {
     "data": {
      "text/html": [
       "<div>\n",
       "<style scoped>\n",
       "    .dataframe tbody tr th:only-of-type {\n",
       "        vertical-align: middle;\n",
       "    }\n",
       "\n",
       "    .dataframe tbody tr th {\n",
       "        vertical-align: top;\n",
       "    }\n",
       "\n",
       "    .dataframe thead th {\n",
       "        text-align: right;\n",
       "    }\n",
       "</style>\n",
       "<table border=\"1\" class=\"dataframe\">\n",
       "  <thead>\n",
       "    <tr style=\"text-align: right;\">\n",
       "      <th></th>\n",
       "      <th>user_id</th>\n",
       "      <th>time</th>\n",
       "      <th>bet</th>\n",
       "      <th>win</th>\n",
       "    </tr>\n",
       "  </thead>\n",
       "  <tbody>\n",
       "    <tr>\n",
       "      <th>0</th>\n",
       "      <td>Запись пользователя № - user_919</td>\n",
       "      <td>[2019-01-01 14:06:51</td>\n",
       "      <td>NaN</td>\n",
       "      <td>NaN</td>\n",
       "    </tr>\n",
       "    <tr>\n",
       "      <th>1</th>\n",
       "      <td>Запись пользователя № - user_973</td>\n",
       "      <td>[2019-01-01 14:51:16</td>\n",
       "      <td>NaN</td>\n",
       "      <td>NaN</td>\n",
       "    </tr>\n",
       "    <tr>\n",
       "      <th>2</th>\n",
       "      <td>Запись пользователя № - user_903</td>\n",
       "      <td>[2019-01-01 16:31:16</td>\n",
       "      <td>NaN</td>\n",
       "      <td>NaN</td>\n",
       "    </tr>\n",
       "    <tr>\n",
       "      <th>3</th>\n",
       "      <td>Запись пользователя № - user_954</td>\n",
       "      <td>[2019-01-01 17:17:51</td>\n",
       "      <td>NaN</td>\n",
       "      <td>NaN</td>\n",
       "    </tr>\n",
       "    <tr>\n",
       "      <th>4</th>\n",
       "      <td>Запись пользователя № - user_954</td>\n",
       "      <td>[2019-01-01 21:31:18</td>\n",
       "      <td>NaN</td>\n",
       "      <td>NaN</td>\n",
       "    </tr>\n",
       "  </tbody>\n",
       "</table>\n",
       "</div>"
      ],
      "text/plain": [
       "                            user_id                  time  bet  win\n",
       "0  Запись пользователя № - user_919  [2019-01-01 14:06:51  NaN  NaN\n",
       "1  Запись пользователя № - user_973  [2019-01-01 14:51:16  NaN  NaN\n",
       "2  Запись пользователя № - user_903  [2019-01-01 16:31:16  NaN  NaN\n",
       "3  Запись пользователя № - user_954  [2019-01-01 17:17:51  NaN  NaN\n",
       "4  Запись пользователя № - user_954  [2019-01-01 21:31:18  NaN  NaN"
      ]
     },
     "execution_count": 4,
     "metadata": {},
     "output_type": "execute_result"
    }
   ],
   "source": [
    "# Переименовываем колонки\n",
    "\n",
    "df_logs.columns = ('user_id', 'time', 'bet', 'win')\n",
    "df_logs.head()"
   ]
  },
  {
   "cell_type": "code",
   "execution_count": 5,
   "metadata": {},
   "outputs": [
    {
     "data": {
      "text/plain": [
       "False    985\n",
       "True      15\n",
       "Name: time, dtype: int64"
      ]
     },
     "execution_count": 5,
     "metadata": {},
     "output_type": "execute_result"
    }
   ],
   "source": [
    "# Количество пустых значений в столбце\n",
    "\n",
    "df_logs['time'].isna().value_counts()"
   ]
  },
  {
   "cell_type": "markdown",
   "metadata": {},
   "source": [
    "### В следующих строках df_logs не меняется, создаётся его копия"
   ]
  },
  {
   "cell_type": "code",
   "execution_count": 6,
   "metadata": {},
   "outputs": [
    {
     "data": {
      "text/html": [
       "<div>\n",
       "<style scoped>\n",
       "    .dataframe tbody tr th:only-of-type {\n",
       "        vertical-align: middle;\n",
       "    }\n",
       "\n",
       "    .dataframe tbody tr th {\n",
       "        vertical-align: top;\n",
       "    }\n",
       "\n",
       "    .dataframe thead th {\n",
       "        text-align: right;\n",
       "    }\n",
       "</style>\n",
       "<table border=\"1\" class=\"dataframe\">\n",
       "  <thead>\n",
       "    <tr style=\"text-align: right;\">\n",
       "      <th></th>\n",
       "      <th>user_id</th>\n",
       "    </tr>\n",
       "  </thead>\n",
       "  <tbody>\n",
       "    <tr>\n",
       "      <th>0</th>\n",
       "      <td>Запись пользователя № - user_919</td>\n",
       "    </tr>\n",
       "    <tr>\n",
       "      <th>1</th>\n",
       "      <td>Запись пользователя № - user_973</td>\n",
       "    </tr>\n",
       "    <tr>\n",
       "      <th>2</th>\n",
       "      <td>Запись пользователя № - user_903</td>\n",
       "    </tr>\n",
       "    <tr>\n",
       "      <th>3</th>\n",
       "      <td>Запись пользователя № - user_954</td>\n",
       "    </tr>\n",
       "    <tr>\n",
       "      <th>4</th>\n",
       "      <td>Запись пользователя № - user_954</td>\n",
       "    </tr>\n",
       "  </tbody>\n",
       "</table>\n",
       "</div>"
      ],
      "text/plain": [
       "                            user_id\n",
       "0  Запись пользователя № - user_919\n",
       "1  Запись пользователя № - user_973\n",
       "2  Запись пользователя № - user_903\n",
       "3  Запись пользователя № - user_954\n",
       "4  Запись пользователя № - user_954"
      ]
     },
     "execution_count": 6,
     "metadata": {},
     "output_type": "execute_result"
    }
   ],
   "source": [
    "# Дропаем все столбцы, где есть хоть одно пустое значение\n",
    "\n",
    "df_logs_bak = df_logs.copy()\n",
    "df_logs_bak.dropna(axis=1, inplace=True)\n",
    "df_logs_bak.head()"
   ]
  },
  {
   "cell_type": "code",
   "execution_count": 7,
   "metadata": {},
   "outputs": [
    {
     "data": {
      "text/plain": [
       "user_id    133\n",
       "time       133\n",
       "bet        133\n",
       "win        133\n",
       "dtype: int64"
      ]
     },
     "execution_count": 7,
     "metadata": {},
     "output_type": "execute_result"
    }
   ],
   "source": [
    "# Дропаем все строки, где есть хоть одно пустое значение\n",
    "\n",
    "df_logs_bak2 = df_logs.copy()\n",
    "df_logs_bak2.dropna(axis=0, inplace=True)\n",
    "df_logs_bak2.count()"
   ]
  },
  {
   "cell_type": "code",
   "execution_count": 8,
   "metadata": {},
   "outputs": [
    {
     "data": {
      "text/html": [
       "<div>\n",
       "<style scoped>\n",
       "    .dataframe tbody tr th:only-of-type {\n",
       "        vertical-align: middle;\n",
       "    }\n",
       "\n",
       "    .dataframe tbody tr th {\n",
       "        vertical-align: top;\n",
       "    }\n",
       "\n",
       "    .dataframe thead th {\n",
       "        text-align: right;\n",
       "    }\n",
       "</style>\n",
       "<table border=\"1\" class=\"dataframe\">\n",
       "  <thead>\n",
       "    <tr style=\"text-align: right;\">\n",
       "      <th></th>\n",
       "      <th>user_id</th>\n",
       "      <th>bet</th>\n",
       "      <th>win</th>\n",
       "    </tr>\n",
       "  </thead>\n",
       "  <tbody>\n",
       "    <tr>\n",
       "      <th>0</th>\n",
       "      <td>Запись пользователя № - user_919</td>\n",
       "      <td>NaN</td>\n",
       "      <td>NaN</td>\n",
       "    </tr>\n",
       "    <tr>\n",
       "      <th>1</th>\n",
       "      <td>Запись пользователя № - user_973</td>\n",
       "      <td>NaN</td>\n",
       "      <td>NaN</td>\n",
       "    </tr>\n",
       "    <tr>\n",
       "      <th>2</th>\n",
       "      <td>Запись пользователя № - user_903</td>\n",
       "      <td>NaN</td>\n",
       "      <td>NaN</td>\n",
       "    </tr>\n",
       "    <tr>\n",
       "      <th>3</th>\n",
       "      <td>Запись пользователя № - user_954</td>\n",
       "      <td>NaN</td>\n",
       "      <td>NaN</td>\n",
       "    </tr>\n",
       "    <tr>\n",
       "      <th>4</th>\n",
       "      <td>Запись пользователя № - user_954</td>\n",
       "      <td>NaN</td>\n",
       "      <td>NaN</td>\n",
       "    </tr>\n",
       "  </tbody>\n",
       "</table>\n",
       "</div>"
      ],
      "text/plain": [
       "                            user_id  bet  win\n",
       "0  Запись пользователя № - user_919  NaN  NaN\n",
       "1  Запись пользователя № - user_973  NaN  NaN\n",
       "2  Запись пользователя № - user_903  NaN  NaN\n",
       "3  Запись пользователя № - user_954  NaN  NaN\n",
       "4  Запись пользователя № - user_954  NaN  NaN"
      ]
     },
     "execution_count": 8,
     "metadata": {},
     "output_type": "execute_result"
    }
   ],
   "source": [
    "# Дропаем целиком только определённые столбцы, которые имеют пропущенные значения\n",
    "\n",
    "df_logs_bak3 = df_logs.copy()\n",
    "for col in ['time', 'user_id']:\n",
    "    try:\n",
    "        if df_logs_bak3[col].isna().value_counts()[True] >= 0:\n",
    "            df_logs_bak3.drop(col, axis=1, inplace=True)\n",
    "    except KeyError:\n",
    "        pass\n",
    "df_logs_bak3.head()"
   ]
  },
  {
   "cell_type": "code",
   "execution_count": 9,
   "metadata": {},
   "outputs": [
    {
     "data": {
      "text/plain": [
       "user_id    986\n",
       "time       985\n",
       "bet        472\n",
       "win        133\n",
       "dtype: int64"
      ]
     },
     "execution_count": 9,
     "metadata": {},
     "output_type": "execute_result"
    }
   ],
   "source": [
    "df_logs.drop_duplicates(subset=['user_id', 'time']).count()"
   ]
  },
  {
   "cell_type": "code",
   "execution_count": 10,
   "metadata": {},
   "outputs": [
    {
     "data": {
      "text/plain": [
       "'2019-01-01 14:06:51'"
      ]
     },
     "execution_count": 10,
     "metadata": {},
     "output_type": "execute_result"
    }
   ],
   "source": [
    "example = '[2019-01-01 14:06:51'\n",
    "def parse_time(s: str):\n",
    "    if str(s).startswith('['):\n",
    "        return s[1:]\n",
    "parse_time(example)"
   ]
  },
  {
   "cell_type": "code",
   "execution_count": 11,
   "metadata": {},
   "outputs": [],
   "source": [
    "df_logs.time = df_logs.time.apply(parse_time)"
   ]
  },
  {
   "cell_type": "code",
   "execution_count": 12,
   "metadata": {},
   "outputs": [
    {
     "data": {
      "text/html": [
       "<div>\n",
       "<style scoped>\n",
       "    .dataframe tbody tr th:only-of-type {\n",
       "        vertical-align: middle;\n",
       "    }\n",
       "\n",
       "    .dataframe tbody tr th {\n",
       "        vertical-align: top;\n",
       "    }\n",
       "\n",
       "    .dataframe thead th {\n",
       "        text-align: right;\n",
       "    }\n",
       "</style>\n",
       "<table border=\"1\" class=\"dataframe\">\n",
       "  <thead>\n",
       "    <tr style=\"text-align: right;\">\n",
       "      <th></th>\n",
       "      <th>user_id</th>\n",
       "      <th>time</th>\n",
       "      <th>bet</th>\n",
       "      <th>win</th>\n",
       "    </tr>\n",
       "  </thead>\n",
       "  <tbody>\n",
       "    <tr>\n",
       "      <th>0</th>\n",
       "      <td>Запись пользователя № - user_919</td>\n",
       "      <td>2019-01-01 14:06:51</td>\n",
       "      <td>NaN</td>\n",
       "      <td>NaN</td>\n",
       "    </tr>\n",
       "    <tr>\n",
       "      <th>1</th>\n",
       "      <td>Запись пользователя № - user_973</td>\n",
       "      <td>2019-01-01 14:51:16</td>\n",
       "      <td>NaN</td>\n",
       "      <td>NaN</td>\n",
       "    </tr>\n",
       "    <tr>\n",
       "      <th>2</th>\n",
       "      <td>Запись пользователя № - user_903</td>\n",
       "      <td>2019-01-01 16:31:16</td>\n",
       "      <td>NaN</td>\n",
       "      <td>NaN</td>\n",
       "    </tr>\n",
       "    <tr>\n",
       "      <th>3</th>\n",
       "      <td>Запись пользователя № - user_954</td>\n",
       "      <td>2019-01-01 17:17:51</td>\n",
       "      <td>NaN</td>\n",
       "      <td>NaN</td>\n",
       "    </tr>\n",
       "    <tr>\n",
       "      <th>4</th>\n",
       "      <td>Запись пользователя № - user_954</td>\n",
       "      <td>2019-01-01 21:31:18</td>\n",
       "      <td>NaN</td>\n",
       "      <td>NaN</td>\n",
       "    </tr>\n",
       "  </tbody>\n",
       "</table>\n",
       "</div>"
      ],
      "text/plain": [
       "                            user_id                 time  bet  win\n",
       "0  Запись пользователя № - user_919  2019-01-01 14:06:51  NaN  NaN\n",
       "1  Запись пользователя № - user_973  2019-01-01 14:51:16  NaN  NaN\n",
       "2  Запись пользователя № - user_903  2019-01-01 16:31:16  NaN  NaN\n",
       "3  Запись пользователя № - user_954  2019-01-01 17:17:51  NaN  NaN\n",
       "4  Запись пользователя № - user_954  2019-01-01 21:31:18  NaN  NaN"
      ]
     },
     "execution_count": 12,
     "metadata": {},
     "output_type": "execute_result"
    }
   ],
   "source": [
    "df_logs.head()"
   ]
  },
  {
   "cell_type": "code",
   "execution_count": 13,
   "metadata": {},
   "outputs": [],
   "source": [
    "time_series = df_logs.time.dropna()"
   ]
  },
  {
   "cell_type": "code",
   "execution_count": 14,
   "metadata": {},
   "outputs": [
    {
     "data": {
      "text/plain": [
       "False    985\n",
       "Name: time, dtype: int64"
      ]
     },
     "execution_count": 14,
     "metadata": {},
     "output_type": "execute_result"
    }
   ],
   "source": [
    "time_series.isna().value_counts()"
   ]
  },
  {
   "cell_type": "code",
   "execution_count": 15,
   "metadata": {},
   "outputs": [],
   "source": [
    "time_series = pd.to_datetime(time_series)"
   ]
  },
  {
   "cell_type": "code",
   "execution_count": 16,
   "metadata": {},
   "outputs": [
    {
     "data": {
      "text/plain": [
       "Timestamp('2019-04-20 18:10:07')"
      ]
     },
     "execution_count": 16,
     "metadata": {},
     "output_type": "execute_result"
    }
   ],
   "source": [
    "time_series.max()"
   ]
  },
  {
   "cell_type": "code",
   "execution_count": 17,
   "metadata": {},
   "outputs": [
    {
     "data": {
      "text/plain": [
       "0   2019-01-01 14:06:51\n",
       "1   2019-01-01 14:51:16\n",
       "2   2019-01-01 16:31:16\n",
       "3   2019-01-01 17:17:51\n",
       "4   2019-01-01 21:31:18\n",
       "Name: time, dtype: datetime64[ns]"
      ]
     },
     "execution_count": 17,
     "metadata": {},
     "output_type": "execute_result"
    }
   ],
   "source": [
    "time_series.head(5)"
   ]
  },
  {
   "cell_type": "code",
   "execution_count": 18,
   "metadata": {},
   "outputs": [
    {
     "data": {
      "text/plain": [
       "13     57\n",
       "28     59\n",
       "150    54\n",
       "188    34\n",
       "204    26\n",
       "Name: minutes, dtype: int64"
      ]
     },
     "execution_count": 18,
     "metadata": {},
     "output_type": "execute_result"
    }
   ],
   "source": [
    "log = pd.read_csv(os.path.join(folder, \"log.xls\"))  \n",
    "log = log.dropna()  \n",
    "log.columns = ['user_id', 'time', 'bet', 'win']  \n",
    "log['date_time'] = pd.to_datetime(log['time'].apply(lambda x: x[1:]))\n",
    "log['minutes'] = log['date_time'].apply(lambda x: x.minute)\n",
    "log['minutes'].head() "
   ]
  },
  {
   "cell_type": "code",
   "execution_count": 19,
   "metadata": {},
   "outputs": [
    {
     "data": {
      "text/plain": [
       "36    7\n",
       "57    5\n",
       "44    5\n",
       "18    5\n",
       "35    4\n",
       "Name: minutes, dtype: int64"
      ]
     },
     "execution_count": 19,
     "metadata": {},
     "output_type": "execute_result"
    }
   ],
   "source": [
    "log['minutes'].value_counts().head()"
   ]
  },
  {
   "cell_type": "code",
   "execution_count": 21,
   "metadata": {},
   "outputs": [
    {
     "data": {
      "text/plain": [
       "3    57\n",
       "4    51\n",
       "2    16\n",
       "1     9\n",
       "Name: month, dtype: int64"
      ]
     },
     "execution_count": 21,
     "metadata": {},
     "output_type": "execute_result"
    }
   ],
   "source": [
    "log = pd.read_csv(os.path.join(folder, \"log.xls\"))  \n",
    "log = log.dropna()  \n",
    "log.columns = ['user_id', 'time', 'bet', 'win']  \n",
    "log['date_time'] = pd.to_datetime(log['time'].apply(lambda x: x[1:]))\n",
    "log['month'] = log['date_time'].apply(lambda x: x.month)\n",
    "log['month'].value_counts()"
   ]
  },
  {
   "cell_type": "code",
   "execution_count": 22,
   "metadata": {},
   "outputs": [
    {
     "data": {
      "text/plain": [
       "1    291\n",
       "3    264\n",
       "2    259\n",
       "4    170\n",
       "Name: time, dtype: int64"
      ]
     },
     "execution_count": 22,
     "metadata": {},
     "output_type": "execute_result"
    }
   ],
   "source": [
    "log = pd.read_csv(os.path.join(folder, \"log.xls\"))\n",
    "log.columns = ['user_id', 'time', 'bet', 'win'] \n",
    "ts = log['time'].dropna()  \n",
    "dts = pd.to_datetime(ts.apply(lambda x: x[1:]))\n",
    "mts = dts.apply(lambda x: x.month)\n",
    "mts.value_counts()"
   ]
  },
  {
   "cell_type": "code",
   "execution_count": 23,
   "metadata": {},
   "outputs": [],
   "source": [
    "df_logs['datetime'] = pd.to_datetime(df_logs['time'])"
   ]
  },
  {
   "cell_type": "code",
   "execution_count": 24,
   "metadata": {},
   "outputs": [
    {
     "data": {
      "text/html": [
       "<div>\n",
       "<style scoped>\n",
       "    .dataframe tbody tr th:only-of-type {\n",
       "        vertical-align: middle;\n",
       "    }\n",
       "\n",
       "    .dataframe tbody tr th {\n",
       "        vertical-align: top;\n",
       "    }\n",
       "\n",
       "    .dataframe thead th {\n",
       "        text-align: right;\n",
       "    }\n",
       "</style>\n",
       "<table border=\"1\" class=\"dataframe\">\n",
       "  <thead>\n",
       "    <tr style=\"text-align: right;\">\n",
       "      <th></th>\n",
       "      <th>user_id</th>\n",
       "      <th>time</th>\n",
       "      <th>bet</th>\n",
       "      <th>win</th>\n",
       "      <th>datetime</th>\n",
       "    </tr>\n",
       "  </thead>\n",
       "  <tbody>\n",
       "    <tr>\n",
       "      <th>0</th>\n",
       "      <td>Запись пользователя № - user_919</td>\n",
       "      <td>2019-01-01 14:06:51</td>\n",
       "      <td>NaN</td>\n",
       "      <td>NaN</td>\n",
       "      <td>2019-01-01 14:06:51</td>\n",
       "    </tr>\n",
       "    <tr>\n",
       "      <th>1</th>\n",
       "      <td>Запись пользователя № - user_973</td>\n",
       "      <td>2019-01-01 14:51:16</td>\n",
       "      <td>NaN</td>\n",
       "      <td>NaN</td>\n",
       "      <td>2019-01-01 14:51:16</td>\n",
       "    </tr>\n",
       "    <tr>\n",
       "      <th>2</th>\n",
       "      <td>Запись пользователя № - user_903</td>\n",
       "      <td>2019-01-01 16:31:16</td>\n",
       "      <td>NaN</td>\n",
       "      <td>NaN</td>\n",
       "      <td>2019-01-01 16:31:16</td>\n",
       "    </tr>\n",
       "    <tr>\n",
       "      <th>3</th>\n",
       "      <td>Запись пользователя № - user_954</td>\n",
       "      <td>2019-01-01 17:17:51</td>\n",
       "      <td>NaN</td>\n",
       "      <td>NaN</td>\n",
       "      <td>2019-01-01 17:17:51</td>\n",
       "    </tr>\n",
       "    <tr>\n",
       "      <th>4</th>\n",
       "      <td>Запись пользователя № - user_954</td>\n",
       "      <td>2019-01-01 21:31:18</td>\n",
       "      <td>NaN</td>\n",
       "      <td>NaN</td>\n",
       "      <td>2019-01-01 21:31:18</td>\n",
       "    </tr>\n",
       "  </tbody>\n",
       "</table>\n",
       "</div>"
      ],
      "text/plain": [
       "                            user_id                 time  bet  win  \\\n",
       "0  Запись пользователя № - user_919  2019-01-01 14:06:51  NaN  NaN   \n",
       "1  Запись пользователя № - user_973  2019-01-01 14:51:16  NaN  NaN   \n",
       "2  Запись пользователя № - user_903  2019-01-01 16:31:16  NaN  NaN   \n",
       "3  Запись пользователя № - user_954  2019-01-01 17:17:51  NaN  NaN   \n",
       "4  Запись пользователя № - user_954  2019-01-01 21:31:18  NaN  NaN   \n",
       "\n",
       "             datetime  \n",
       "0 2019-01-01 14:06:51  \n",
       "1 2019-01-01 14:51:16  \n",
       "2 2019-01-01 16:31:16  \n",
       "3 2019-01-01 17:17:51  \n",
       "4 2019-01-01 21:31:18  "
      ]
     },
     "execution_count": 24,
     "metadata": {},
     "output_type": "execute_result"
    }
   ],
   "source": [
    "df_logs.head()"
   ]
  },
  {
   "cell_type": "code",
   "execution_count": 25,
   "metadata": {},
   "outputs": [],
   "source": [
    "df_logs['weekday'] = df_logs['datetime'].dt.weekday"
   ]
  },
  {
   "cell_type": "code",
   "execution_count": 26,
   "metadata": {},
   "outputs": [
    {
     "data": {
      "text/html": [
       "<div>\n",
       "<style scoped>\n",
       "    .dataframe tbody tr th:only-of-type {\n",
       "        vertical-align: middle;\n",
       "    }\n",
       "\n",
       "    .dataframe tbody tr th {\n",
       "        vertical-align: top;\n",
       "    }\n",
       "\n",
       "    .dataframe thead th {\n",
       "        text-align: right;\n",
       "    }\n",
       "</style>\n",
       "<table border=\"1\" class=\"dataframe\">\n",
       "  <thead>\n",
       "    <tr style=\"text-align: right;\">\n",
       "      <th></th>\n",
       "      <th>user_id</th>\n",
       "      <th>time</th>\n",
       "      <th>bet</th>\n",
       "      <th>win</th>\n",
       "      <th>datetime</th>\n",
       "      <th>weekday</th>\n",
       "    </tr>\n",
       "  </thead>\n",
       "  <tbody>\n",
       "    <tr>\n",
       "      <th>0</th>\n",
       "      <td>Запись пользователя № - user_919</td>\n",
       "      <td>2019-01-01 14:06:51</td>\n",
       "      <td>NaN</td>\n",
       "      <td>NaN</td>\n",
       "      <td>2019-01-01 14:06:51</td>\n",
       "      <td>1.0</td>\n",
       "    </tr>\n",
       "    <tr>\n",
       "      <th>1</th>\n",
       "      <td>Запись пользователя № - user_973</td>\n",
       "      <td>2019-01-01 14:51:16</td>\n",
       "      <td>NaN</td>\n",
       "      <td>NaN</td>\n",
       "      <td>2019-01-01 14:51:16</td>\n",
       "      <td>1.0</td>\n",
       "    </tr>\n",
       "    <tr>\n",
       "      <th>2</th>\n",
       "      <td>Запись пользователя № - user_903</td>\n",
       "      <td>2019-01-01 16:31:16</td>\n",
       "      <td>NaN</td>\n",
       "      <td>NaN</td>\n",
       "      <td>2019-01-01 16:31:16</td>\n",
       "      <td>1.0</td>\n",
       "    </tr>\n",
       "    <tr>\n",
       "      <th>3</th>\n",
       "      <td>Запись пользователя № - user_954</td>\n",
       "      <td>2019-01-01 17:17:51</td>\n",
       "      <td>NaN</td>\n",
       "      <td>NaN</td>\n",
       "      <td>2019-01-01 17:17:51</td>\n",
       "      <td>1.0</td>\n",
       "    </tr>\n",
       "    <tr>\n",
       "      <th>4</th>\n",
       "      <td>Запись пользователя № - user_954</td>\n",
       "      <td>2019-01-01 21:31:18</td>\n",
       "      <td>NaN</td>\n",
       "      <td>NaN</td>\n",
       "      <td>2019-01-01 21:31:18</td>\n",
       "      <td>1.0</td>\n",
       "    </tr>\n",
       "  </tbody>\n",
       "</table>\n",
       "</div>"
      ],
      "text/plain": [
       "                            user_id                 time  bet  win  \\\n",
       "0  Запись пользователя № - user_919  2019-01-01 14:06:51  NaN  NaN   \n",
       "1  Запись пользователя № - user_973  2019-01-01 14:51:16  NaN  NaN   \n",
       "2  Запись пользователя № - user_903  2019-01-01 16:31:16  NaN  NaN   \n",
       "3  Запись пользователя № - user_954  2019-01-01 17:17:51  NaN  NaN   \n",
       "4  Запись пользователя № - user_954  2019-01-01 21:31:18  NaN  NaN   \n",
       "\n",
       "             datetime  weekday  \n",
       "0 2019-01-01 14:06:51      1.0  \n",
       "1 2019-01-01 14:51:16      1.0  \n",
       "2 2019-01-01 16:31:16      1.0  \n",
       "3 2019-01-01 17:17:51      1.0  \n",
       "4 2019-01-01 21:31:18      1.0  "
      ]
     },
     "execution_count": 26,
     "metadata": {},
     "output_type": "execute_result"
    }
   ],
   "source": [
    "df_logs.head()"
   ]
  },
  {
   "cell_type": "code",
   "execution_count": 27,
   "metadata": {},
   "outputs": [
    {
     "data": {
      "text/plain": [
       "5.0    152\n",
       "2.0    150\n",
       "1.0    150\n",
       "0.0    135\n",
       "4.0    135\n",
       "3.0    132\n",
       "6.0    131\n",
       "Name: weekday, dtype: int64"
      ]
     },
     "execution_count": 27,
     "metadata": {},
     "output_type": "execute_result"
    }
   ],
   "source": [
    "df_logs['weekday'].value_counts()"
   ]
  },
  {
   "cell_type": "code",
   "execution_count": 28,
   "metadata": {},
   "outputs": [
    {
     "data": {
      "text/plain": [
       "False    985\n",
       "True      15\n",
       "Name: weekday, dtype: int64"
      ]
     },
     "execution_count": 28,
     "metadata": {},
     "output_type": "execute_result"
    }
   ],
   "source": [
    "df_logs['weekday'].isna().value_counts()"
   ]
  },
  {
   "cell_type": "code",
   "execution_count": 29,
   "metadata": {},
   "outputs": [],
   "source": [
    "def daytime(dt):\n",
    "    if pd.isna(dt):\n",
    "        return np.nan\n",
    "    h = dt.hour\n",
    "    if 0 <= h <= 5:\n",
    "        return 'ночь'\n",
    "    if 6 <= h <= 11:\n",
    "        return 'утро'\n",
    "    if 12 <= h <= 17:\n",
    "        return 'день'\n",
    "    if 18 <= h <= 23:\n",
    "        return 'вечер'"
   ]
  },
  {
   "cell_type": "code",
   "execution_count": 30,
   "metadata": {},
   "outputs": [],
   "source": [
    "df_logs['daytime'] = df_logs['datetime'].apply(daytime)"
   ]
  },
  {
   "cell_type": "code",
   "execution_count": 31,
   "metadata": {},
   "outputs": [
    {
     "data": {
      "text/html": [
       "<div>\n",
       "<style scoped>\n",
       "    .dataframe tbody tr th:only-of-type {\n",
       "        vertical-align: middle;\n",
       "    }\n",
       "\n",
       "    .dataframe tbody tr th {\n",
       "        vertical-align: top;\n",
       "    }\n",
       "\n",
       "    .dataframe thead th {\n",
       "        text-align: right;\n",
       "    }\n",
       "</style>\n",
       "<table border=\"1\" class=\"dataframe\">\n",
       "  <thead>\n",
       "    <tr style=\"text-align: right;\">\n",
       "      <th></th>\n",
       "      <th>user_id</th>\n",
       "      <th>time</th>\n",
       "      <th>bet</th>\n",
       "      <th>win</th>\n",
       "      <th>datetime</th>\n",
       "      <th>weekday</th>\n",
       "      <th>daytime</th>\n",
       "    </tr>\n",
       "  </thead>\n",
       "  <tbody>\n",
       "    <tr>\n",
       "      <th>0</th>\n",
       "      <td>Запись пользователя № - user_919</td>\n",
       "      <td>2019-01-01 14:06:51</td>\n",
       "      <td>NaN</td>\n",
       "      <td>NaN</td>\n",
       "      <td>2019-01-01 14:06:51</td>\n",
       "      <td>1.0</td>\n",
       "      <td>день</td>\n",
       "    </tr>\n",
       "    <tr>\n",
       "      <th>1</th>\n",
       "      <td>Запись пользователя № - user_973</td>\n",
       "      <td>2019-01-01 14:51:16</td>\n",
       "      <td>NaN</td>\n",
       "      <td>NaN</td>\n",
       "      <td>2019-01-01 14:51:16</td>\n",
       "      <td>1.0</td>\n",
       "      <td>день</td>\n",
       "    </tr>\n",
       "    <tr>\n",
       "      <th>2</th>\n",
       "      <td>Запись пользователя № - user_903</td>\n",
       "      <td>2019-01-01 16:31:16</td>\n",
       "      <td>NaN</td>\n",
       "      <td>NaN</td>\n",
       "      <td>2019-01-01 16:31:16</td>\n",
       "      <td>1.0</td>\n",
       "      <td>день</td>\n",
       "    </tr>\n",
       "    <tr>\n",
       "      <th>3</th>\n",
       "      <td>Запись пользователя № - user_954</td>\n",
       "      <td>2019-01-01 17:17:51</td>\n",
       "      <td>NaN</td>\n",
       "      <td>NaN</td>\n",
       "      <td>2019-01-01 17:17:51</td>\n",
       "      <td>1.0</td>\n",
       "      <td>день</td>\n",
       "    </tr>\n",
       "    <tr>\n",
       "      <th>4</th>\n",
       "      <td>Запись пользователя № - user_954</td>\n",
       "      <td>2019-01-01 21:31:18</td>\n",
       "      <td>NaN</td>\n",
       "      <td>NaN</td>\n",
       "      <td>2019-01-01 21:31:18</td>\n",
       "      <td>1.0</td>\n",
       "      <td>вечер</td>\n",
       "    </tr>\n",
       "  </tbody>\n",
       "</table>\n",
       "</div>"
      ],
      "text/plain": [
       "                            user_id                 time  bet  win  \\\n",
       "0  Запись пользователя № - user_919  2019-01-01 14:06:51  NaN  NaN   \n",
       "1  Запись пользователя № - user_973  2019-01-01 14:51:16  NaN  NaN   \n",
       "2  Запись пользователя № - user_903  2019-01-01 16:31:16  NaN  NaN   \n",
       "3  Запись пользователя № - user_954  2019-01-01 17:17:51  NaN  NaN   \n",
       "4  Запись пользователя № - user_954  2019-01-01 21:31:18  NaN  NaN   \n",
       "\n",
       "             datetime  weekday daytime  \n",
       "0 2019-01-01 14:06:51      1.0    день  \n",
       "1 2019-01-01 14:51:16      1.0    день  \n",
       "2 2019-01-01 16:31:16      1.0    день  \n",
       "3 2019-01-01 17:17:51      1.0    день  \n",
       "4 2019-01-01 21:31:18      1.0   вечер  "
      ]
     },
     "execution_count": 31,
     "metadata": {},
     "output_type": "execute_result"
    }
   ],
   "source": [
    "df_logs.head()"
   ]
  },
  {
   "cell_type": "code",
   "execution_count": 32,
   "metadata": {},
   "outputs": [
    {
     "data": {
      "text/plain": [
       "ночь     265\n",
       "утро     253\n",
       "день     240\n",
       "вечер    227\n",
       "Name: daytime, dtype: int64"
      ]
     },
     "execution_count": 32,
     "metadata": {},
     "output_type": "execute_result"
    }
   ],
   "source": [
    "df_logs.daytime.value_counts()"
   ]
  },
  {
   "cell_type": "code",
   "execution_count": 33,
   "metadata": {},
   "outputs": [],
   "source": [
    "log = pd.read_csv(os.path.join(folder, 'log.xls'), header=None)\n",
    "log.columns = ('user_id', 'time', 'bet', 'win')\n",
    "log.dropna(inplace=True, subset=['time'])\n",
    "log['time'] = pd.to_datetime(log['time'].apply(lambda x: x[1:]))\n",
    "log['hour'] = log['time'].apply(lambda x: x.hour)"
   ]
  },
  {
   "cell_type": "code",
   "execution_count": 34,
   "metadata": {},
   "outputs": [
    {
     "data": {
      "text/plain": [
       "user_id    985\n",
       "time       985\n",
       "bet        472\n",
       "win        133\n",
       "hour       985\n",
       "dtype: int64"
      ]
     },
     "execution_count": 34,
     "metadata": {},
     "output_type": "execute_result"
    }
   ],
   "source": [
    "log.count()"
   ]
  },
  {
   "cell_type": "code",
   "execution_count": 35,
   "metadata": {},
   "outputs": [],
   "source": [
    "df_logs['bet'].fillna(0, inplace=True)"
   ]
  },
  {
   "cell_type": "code",
   "execution_count": 36,
   "metadata": {},
   "outputs": [
    {
     "data": {
      "text/plain": [
       "515"
      ]
     },
     "execution_count": 36,
     "metadata": {},
     "output_type": "execute_result"
    }
   ],
   "source": [
    "df_logs.bet.value_counts()[0]"
   ]
  },
  {
   "cell_type": "code",
   "execution_count": 37,
   "metadata": {},
   "outputs": [],
   "source": [
    "def fillna_win(row):\n",
    "    if not pd.isna(row.win):\n",
    "        return row\n",
    "    if row.bet == 0:\n",
    "        row.win = 0\n",
    "        return row\n",
    "    row.win = -row.bet\n",
    "    return row"
   ]
  },
  {
   "cell_type": "code",
   "execution_count": 38,
   "metadata": {},
   "outputs": [],
   "source": [
    "df_logs = df_logs.apply(lambda row: fillna_win(row), axis=1)"
   ]
  },
  {
   "cell_type": "code",
   "execution_count": 39,
   "metadata": {},
   "outputs": [
    {
     "data": {
      "text/html": [
       "<div>\n",
       "<style scoped>\n",
       "    .dataframe tbody tr th:only-of-type {\n",
       "        vertical-align: middle;\n",
       "    }\n",
       "\n",
       "    .dataframe tbody tr th {\n",
       "        vertical-align: top;\n",
       "    }\n",
       "\n",
       "    .dataframe thead th {\n",
       "        text-align: right;\n",
       "    }\n",
       "</style>\n",
       "<table border=\"1\" class=\"dataframe\">\n",
       "  <thead>\n",
       "    <tr style=\"text-align: right;\">\n",
       "      <th></th>\n",
       "      <th>user_id</th>\n",
       "      <th>time</th>\n",
       "      <th>bet</th>\n",
       "      <th>win</th>\n",
       "      <th>datetime</th>\n",
       "      <th>weekday</th>\n",
       "      <th>daytime</th>\n",
       "    </tr>\n",
       "  </thead>\n",
       "  <tbody>\n",
       "    <tr>\n",
       "      <th>0</th>\n",
       "      <td>Запись пользователя № - user_919</td>\n",
       "      <td>2019-01-01 14:06:51</td>\n",
       "      <td>0.0</td>\n",
       "      <td>0.0</td>\n",
       "      <td>2019-01-01 14:06:51</td>\n",
       "      <td>1.0</td>\n",
       "      <td>день</td>\n",
       "    </tr>\n",
       "    <tr>\n",
       "      <th>1</th>\n",
       "      <td>Запись пользователя № - user_973</td>\n",
       "      <td>2019-01-01 14:51:16</td>\n",
       "      <td>0.0</td>\n",
       "      <td>0.0</td>\n",
       "      <td>2019-01-01 14:51:16</td>\n",
       "      <td>1.0</td>\n",
       "      <td>день</td>\n",
       "    </tr>\n",
       "    <tr>\n",
       "      <th>2</th>\n",
       "      <td>Запись пользователя № - user_903</td>\n",
       "      <td>2019-01-01 16:31:16</td>\n",
       "      <td>0.0</td>\n",
       "      <td>0.0</td>\n",
       "      <td>2019-01-01 16:31:16</td>\n",
       "      <td>1.0</td>\n",
       "      <td>день</td>\n",
       "    </tr>\n",
       "    <tr>\n",
       "      <th>3</th>\n",
       "      <td>Запись пользователя № - user_954</td>\n",
       "      <td>2019-01-01 17:17:51</td>\n",
       "      <td>0.0</td>\n",
       "      <td>0.0</td>\n",
       "      <td>2019-01-01 17:17:51</td>\n",
       "      <td>1.0</td>\n",
       "      <td>день</td>\n",
       "    </tr>\n",
       "    <tr>\n",
       "      <th>4</th>\n",
       "      <td>Запись пользователя № - user_954</td>\n",
       "      <td>2019-01-01 21:31:18</td>\n",
       "      <td>0.0</td>\n",
       "      <td>0.0</td>\n",
       "      <td>2019-01-01 21:31:18</td>\n",
       "      <td>1.0</td>\n",
       "      <td>вечер</td>\n",
       "    </tr>\n",
       "  </tbody>\n",
       "</table>\n",
       "</div>"
      ],
      "text/plain": [
       "                            user_id                 time  bet  win  \\\n",
       "0  Запись пользователя № - user_919  2019-01-01 14:06:51  0.0  0.0   \n",
       "1  Запись пользователя № - user_973  2019-01-01 14:51:16  0.0  0.0   \n",
       "2  Запись пользователя № - user_903  2019-01-01 16:31:16  0.0  0.0   \n",
       "3  Запись пользователя № - user_954  2019-01-01 17:17:51  0.0  0.0   \n",
       "4  Запись пользователя № - user_954  2019-01-01 21:31:18  0.0  0.0   \n",
       "\n",
       "             datetime  weekday daytime  \n",
       "0 2019-01-01 14:06:51      1.0    день  \n",
       "1 2019-01-01 14:51:16      1.0    день  \n",
       "2 2019-01-01 16:31:16      1.0    день  \n",
       "3 2019-01-01 17:17:51      1.0    день  \n",
       "4 2019-01-01 21:31:18      1.0   вечер  "
      ]
     },
     "execution_count": 39,
     "metadata": {},
     "output_type": "execute_result"
    }
   ],
   "source": [
    "df_logs.head()"
   ]
  },
  {
   "cell_type": "code",
   "execution_count": 40,
   "metadata": {},
   "outputs": [
    {
     "data": {
      "text/plain": [
       "347"
      ]
     },
     "execution_count": 40,
     "metadata": {},
     "output_type": "execute_result"
    }
   ],
   "source": [
    "df_logs[df_logs.win < 0].win.count()"
   ]
  },
  {
   "cell_type": "code",
   "execution_count": 41,
   "metadata": {},
   "outputs": [],
   "source": [
    "df_logs['net'] = df_logs['win'] - df_logs['bet']"
   ]
  },
  {
   "cell_type": "markdown",
   "metadata": {},
   "source": [
    "Задание 1\n",
    "1/1 point (graded)\n",
    "Используйте модифицированный в прошлой секции датасет log.csv. Результат запишите числом в поле ниже.\n",
    "\n",
    "Подсказка - можно использовать sum().\n",
    "\n",
    "Создайте признак net, хранящий сумму выигрыша с учетом ставки. Для этого из признака win поэлементно вычтите признак bet и запишите в новый столбец. После этого посчитайте, у скольких людей выигрыш положительный."
   ]
  },
  {
   "cell_type": "code",
   "execution_count": 42,
   "metadata": {},
   "outputs": [
    {
     "data": {
      "text/plain": [
       "138"
      ]
     },
     "execution_count": 42,
     "metadata": {},
     "output_type": "execute_result"
    }
   ],
   "source": [
    "df_logs.net[df_logs.net > 0].count()"
   ]
  },
  {
   "cell_type": "markdown",
   "metadata": {},
   "source": [
    "Задание 2\n",
    "1/1 point (graded)\n",
    "Используйте датасет log.csv, получившийся в результате выполнения предыдущего задания. Посчитайте среднее значение выигрыша (из столбца net) в тех случаях, когда выигрыш больше 0. Результат округлите до целого, отбросив дробную часть.\n",
    "\n",
    "Подсказка: можно использовать mean()."
   ]
  },
  {
   "cell_type": "code",
   "execution_count": 43,
   "metadata": {},
   "outputs": [
    {
     "data": {
      "text/plain": [
       "80253.33333333333"
      ]
     },
     "execution_count": 43,
     "metadata": {},
     "output_type": "execute_result"
    }
   ],
   "source": [
    "df_logs.net[df_logs.net > 0].mean()"
   ]
  },
  {
   "cell_type": "markdown",
   "metadata": {},
   "source": [
    "Задание 3\n",
    "1 point possible (graded)\n",
    "Используйте датасет log.csv, получившийся в результате выполнения первого задания этого блока. Посчитайте медианное значение выигрыша (из столбца net) в тех случаях, когда выигрыш больше 0. Результат округлите до целого, отбросив дробную часть.\n",
    "\n",
    "Подсказка: можно использовать median()."
   ]
  },
  {
   "cell_type": "code",
   "execution_count": 44,
   "metadata": {},
   "outputs": [
    {
     "data": {
      "text/plain": [
       "5347.0"
      ]
     },
     "execution_count": 44,
     "metadata": {},
     "output_type": "execute_result"
    }
   ],
   "source": [
    "df_logs.net[df_logs.net > 0].median()"
   ]
  },
  {
   "cell_type": "code",
   "execution_count": 45,
   "metadata": {},
   "outputs": [
    {
     "data": {
      "text/plain": [
       "6806.578389830508"
      ]
     },
     "execution_count": 45,
     "metadata": {},
     "output_type": "execute_result"
    }
   ],
   "source": [
    "log.bet.sum() / log.bet.dropna().shape[0]"
   ]
  },
  {
   "cell_type": "code",
   "execution_count": 46,
   "metadata": {},
   "outputs": [
    {
     "data": {
      "text/plain": [
       "6806.578389830508"
      ]
     },
     "execution_count": 46,
     "metadata": {},
     "output_type": "execute_result"
    }
   ],
   "source": [
    "log.bet.mean()"
   ]
  },
  {
   "cell_type": "code",
   "execution_count": 47,
   "metadata": {},
   "outputs": [
    {
     "data": {
      "text/plain": [
       "6806.578389830508"
      ]
     },
     "execution_count": 47,
     "metadata": {},
     "output_type": "execute_result"
    }
   ],
   "source": [
    "np.mean(log.bet)"
   ]
  },
  {
   "cell_type": "code",
   "execution_count": 48,
   "metadata": {},
   "outputs": [
    {
     "data": {
      "text/plain": [
       "6806.578389830508"
      ]
     },
     "execution_count": 48,
     "metadata": {},
     "output_type": "execute_result"
    }
   ],
   "source": [
    "log['bet'].dropna().mean()"
   ]
  },
  {
   "cell_type": "markdown",
   "metadata": {},
   "source": [
    "#### Задание 1\n",
    "\n",
    "Используйте модифицированный исходный датасет log.csv.\n",
    "\n",
    "При модификации датасета log.csv, пропущенные значения в столбцах bet и win замените на 0, cоздайте столбец net, хранящий сумму выигрыша с учетом ставки (для этого из столбца win поэлементно вычтите столбец bet и запишите в новый столбец).\n",
    "\n",
    "Посчитайте, какой процент посещений букмекерской конторы оборачивался ставкой. Для этого поделите количество ставок (значений больше 0) на общее количество посещений конторы. Результат округлите до одного знака после запятой."
   ]
  },
  {
   "cell_type": "code",
   "execution_count": 49,
   "metadata": {},
   "outputs": [
    {
     "name": "stderr",
     "output_type": "stream",
     "text": [
      "C:\\Users\\kirill.n.cherkasov\\AppData\\Local\\Continuum\\anaconda3\\lib\\site-packages\\ipykernel_launcher.py:1: SettingWithCopyWarning: \n",
      "A value is trying to be set on a copy of a slice from a DataFrame\n",
      "\n",
      "See the caveats in the documentation: http://pandas.pydata.org/pandas-docs/stable/indexing.html#indexing-view-versus-copy\n",
      "  \"\"\"Entry point for launching an IPython kernel.\n"
     ]
    }
   ],
   "source": [
    "df_logs.win[df_logs.win < 0] = 0"
   ]
  },
  {
   "cell_type": "code",
   "execution_count": 50,
   "metadata": {},
   "outputs": [],
   "source": [
    "df_logs.net = df_logs.win - df_logs.bet"
   ]
  },
  {
   "cell_type": "code",
   "execution_count": 51,
   "metadata": {},
   "outputs": [
    {
     "data": {
      "text/plain": [
       "48.5"
      ]
     },
     "execution_count": 51,
     "metadata": {},
     "output_type": "execute_result"
    }
   ],
   "source": [
    "df_logs.bet[df_logs.bet > 0].count() / df_logs.bet.count() * 100"
   ]
  },
  {
   "cell_type": "markdown",
   "metadata": {},
   "source": [
    "#### Задание 2\n",
    "1 point possible (graded)\n",
    "Используйте датасет log.csv, получившийся в результате модификации при выполнении первого задания этого блока.\n",
    "\n",
    "Посчитайте среднее значение ставки (из столбца bet) в тех случаях, когда ставка была сделана. Результат округлите до целого, отбросив дробную часть.\n",
    "Подсказка: можно использовать mean()."
   ]
  },
  {
   "cell_type": "code",
   "execution_count": 52,
   "metadata": {},
   "outputs": [
    {
     "data": {
      "text/plain": [
       "6785"
      ]
     },
     "execution_count": 52,
     "metadata": {},
     "output_type": "execute_result"
    }
   ],
   "source": [
    "math.trunc(df_logs.bet[df_logs.bet > 0].mean())"
   ]
  },
  {
   "cell_type": "markdown",
   "metadata": {},
   "source": [
    "#### Задание 3\n",
    "1 point possible (graded)\n",
    "Используйте датасет log.csv, получившийся в результате модификации при выполнении первого задания этого блока.\n",
    "\n",
    "Посчитайте средний выигрыш (из столбца net) в тех случаях, когда ставка была сделана. Результат округлите до целого, отбросив дробную часть.\n",
    "Пояснение: выигрыш в данном случае означает изменение количества денег и может быть отрицательным. В таком случае это проигрыш.\n",
    "\n",
    "Подсказка: можно использовать mean()."
   ]
  },
  {
   "cell_type": "code",
   "execution_count": 53,
   "metadata": {},
   "outputs": [
    {
     "data": {
      "text/plain": [
       "20421"
      ]
     },
     "execution_count": 53,
     "metadata": {},
     "output_type": "execute_result"
    }
   ],
   "source": [
    "math.trunc(df_logs[df_logs.bet > 0].net.mean())"
   ]
  },
  {
   "cell_type": "markdown",
   "metadata": {},
   "source": [
    "#### Задание 4\n",
    "1/1 point (graded)\n",
    "Используйте датасет log.csv, получившийся в результате модификации при выполнении первого задания этого блока.\n",
    "\n",
    "Посчитайте среднюю сумму потерь при проигрыше (из столбца net). Результат округлите до целого, отбросив дробную часть.\n",
    "Пояснение: ответ должен быть дан в виде отрицательного числа.\n",
    "\n",
    "Подсказка: можно использовать mean()."
   ]
  },
  {
   "cell_type": "code",
   "execution_count": 54,
   "metadata": {},
   "outputs": [
    {
     "data": {
      "text/plain": [
       "-3372"
      ]
     },
     "execution_count": 54,
     "metadata": {},
     "output_type": "execute_result"
    }
   ],
   "source": [
    "math.trunc(df_logs.net[df_logs.net < 0].mean())"
   ]
  },
  {
   "cell_type": "markdown",
   "metadata": {},
   "source": [
    "#### Задание 5\n",
    "1 point possible (graded)\n",
    "Посчитайте, какой процент ставок заканчивается выигрышем, а какой - проигрышем. Сравните эти значения и ответьте, какое из них больше.\n",
    "\n",
    "Выберите пункт из списка ниже."
   ]
  },
  {
   "cell_type": "markdown",
   "metadata": {},
   "source": [
    "Количество выигрышей от общего количества ставок"
   ]
  },
  {
   "cell_type": "code",
   "execution_count": 55,
   "metadata": {},
   "outputs": [
    {
     "data": {
      "text/plain": [
       "0.138"
      ]
     },
     "execution_count": 55,
     "metadata": {},
     "output_type": "execute_result"
    }
   ],
   "source": [
    "df_logs.net[df_logs.net > 0].count() / df_logs.net.count()"
   ]
  },
  {
   "cell_type": "markdown",
   "metadata": {},
   "source": [
    "Количество проигрышей от общего количества ставок"
   ]
  },
  {
   "cell_type": "code",
   "execution_count": 56,
   "metadata": {},
   "outputs": [
    {
     "data": {
      "text/plain": [
       "0.347"
      ]
     },
     "execution_count": 56,
     "metadata": {},
     "output_type": "execute_result"
    }
   ],
   "source": [
    "df_logs.net[df_logs.net < 0].count() / df_logs.net.count()"
   ]
  },
  {
   "cell_type": "markdown",
   "metadata": {},
   "source": [
    "Задание 6*\n",
    "1 point possible (graded)\n",
    "Давайте повторим то, что мы прошли в этой секции. Напишите код, который узнает, чему была равна минимальная ставка и сколько людей сделали такую ставку. Для этого:\n",
    "\n",
    "1. загрузите датасет log.csv;\n",
    "\n",
    "2. посчитайте, чему равна минимальная ставка;\n",
    "\n",
    "3. посчитайте, сколько раз была сделана минимальная ставка, и запишите результат в переменную min_bet_amount в виде целого числа."
   ]
  },
  {
   "cell_type": "code",
   "execution_count": 57,
   "metadata": {},
   "outputs": [
    {
     "data": {
      "text/plain": [
       "48"
      ]
     },
     "execution_count": 57,
     "metadata": {},
     "output_type": "execute_result"
    }
   ],
   "source": [
    "log = pd.read_csv(os.path.join(folder, 'log.xls'), header=None)\n",
    "log.columns = ['user_id', 'time', 'bet', 'win']\n",
    "log.bet[log.bet == log.bet.min()].count()"
   ]
  },
  {
   "cell_type": "markdown",
   "metadata": {},
   "source": [
    "Разделяем userinfo на 3 независимых поля"
   ]
  },
  {
   "cell_type": "code",
   "execution_count": 59,
   "metadata": {},
   "outputs": [
    {
     "data": {
      "text/html": [
       "<div>\n",
       "<style scoped>\n",
       "    .dataframe tbody tr th:only-of-type {\n",
       "        vertical-align: middle;\n",
       "    }\n",
       "\n",
       "    .dataframe tbody tr th {\n",
       "        vertical-align: top;\n",
       "    }\n",
       "\n",
       "    .dataframe thead th {\n",
       "        text-align: right;\n",
       "    }\n",
       "</style>\n",
       "<table border=\"1\" class=\"dataframe\">\n",
       "  <thead>\n",
       "    <tr style=\"text-align: right;\">\n",
       "      <th></th>\n",
       "      <th>Юзверь\tмейл\tГео</th>\n",
       "    </tr>\n",
       "  </thead>\n",
       "  <tbody>\n",
       "    <tr>\n",
       "      <th>0</th>\n",
       "      <td>User_943\\tAccumanst@gmail.com\\tИжевск</td>\n",
       "    </tr>\n",
       "    <tr>\n",
       "      <th>1</th>\n",
       "      <td>User_908\\tAdvismowr@mail.ru\\tИжевск</td>\n",
       "    </tr>\n",
       "    <tr>\n",
       "      <th>2</th>\n",
       "      <td>User_962\\tAnachso@ukr.net\\tКраснодар</td>\n",
       "    </tr>\n",
       "    <tr>\n",
       "      <th>3</th>\n",
       "      <td>User_973\\tAntecia@inbox.ru\\tПермь</td>\n",
       "    </tr>\n",
       "    <tr>\n",
       "      <th>4</th>\n",
       "      <td>User_902\\tBalliaryva@ukr.net\\t</td>\n",
       "    </tr>\n",
       "  </tbody>\n",
       "</table>\n",
       "</div>"
      ],
      "text/plain": [
       "                       Юзверь\\tмейл\\tГео\n",
       "0  User_943\\tAccumanst@gmail.com\\tИжевск\n",
       "1    User_908\\tAdvismowr@mail.ru\\tИжевск\n",
       "2   User_962\\tAnachso@ukr.net\\tКраснодар\n",
       "3      User_973\\tAntecia@inbox.ru\\tПермь\n",
       "4         User_902\\tBalliaryva@ukr.net\\t"
      ]
     },
     "execution_count": 59,
     "metadata": {},
     "output_type": "execute_result"
    }
   ],
   "source": [
    "df_users.head()"
   ]
  },
  {
   "cell_type": "code",
   "execution_count": 60,
   "metadata": {},
   "outputs": [],
   "source": [
    "df_logs = df_logs[df_logs.user_id != '#error']"
   ]
  },
  {
   "cell_type": "code",
   "execution_count": 61,
   "metadata": {},
   "outputs": [],
   "source": [
    "df_logs.user_id = df_logs.user_id.str.split('-').apply(lambda x: x[1])"
   ]
  },
  {
   "cell_type": "code",
   "execution_count": 64,
   "metadata": {},
   "outputs": [
    {
     "data": {
      "text/html": [
       "<div>\n",
       "<style scoped>\n",
       "    .dataframe tbody tr th:only-of-type {\n",
       "        vertical-align: middle;\n",
       "    }\n",
       "\n",
       "    .dataframe tbody tr th {\n",
       "        vertical-align: top;\n",
       "    }\n",
       "\n",
       "    .dataframe thead th {\n",
       "        text-align: right;\n",
       "    }\n",
       "</style>\n",
       "<table border=\"1\" class=\"dataframe\">\n",
       "  <thead>\n",
       "    <tr style=\"text-align: right;\">\n",
       "      <th></th>\n",
       "      <th>Юзверь\tмейл\tГео</th>\n",
       "    </tr>\n",
       "  </thead>\n",
       "  <tbody>\n",
       "    <tr>\n",
       "      <th>0</th>\n",
       "      <td>User_943\\tAccumanst@gmail.com\\tИжевск</td>\n",
       "    </tr>\n",
       "    <tr>\n",
       "      <th>1</th>\n",
       "      <td>User_908\\tAdvismowr@mail.ru\\tИжевск</td>\n",
       "    </tr>\n",
       "    <tr>\n",
       "      <th>2</th>\n",
       "      <td>User_962\\tAnachso@ukr.net\\tКраснодар</td>\n",
       "    </tr>\n",
       "    <tr>\n",
       "      <th>3</th>\n",
       "      <td>User_973\\tAntecia@inbox.ru\\tПермь</td>\n",
       "    </tr>\n",
       "    <tr>\n",
       "      <th>4</th>\n",
       "      <td>User_902\\tBalliaryva@ukr.net\\t</td>\n",
       "    </tr>\n",
       "  </tbody>\n",
       "</table>\n",
       "</div>"
      ],
      "text/plain": [
       "                       Юзверь\\tмейл\\tГео\n",
       "0  User_943\\tAccumanst@gmail.com\\tИжевск\n",
       "1    User_908\\tAdvismowr@mail.ru\\tИжевск\n",
       "2   User_962\\tAnachso@ukr.net\\tКраснодар\n",
       "3      User_973\\tAntecia@inbox.ru\\tПермь\n",
       "4         User_902\\tBalliaryva@ukr.net\\t"
      ]
     },
     "execution_count": 64,
     "metadata": {},
     "output_type": "execute_result"
    }
   ],
   "source": [
    "df_users.head()"
   ]
  },
  {
   "cell_type": "code",
   "execution_count": 65,
   "metadata": {},
   "outputs": [
    {
     "data": {
      "text/html": [
       "<div>\n",
       "<style scoped>\n",
       "    .dataframe tbody tr th:only-of-type {\n",
       "        vertical-align: middle;\n",
       "    }\n",
       "\n",
       "    .dataframe tbody tr th {\n",
       "        vertical-align: top;\n",
       "    }\n",
       "\n",
       "    .dataframe thead th {\n",
       "        text-align: right;\n",
       "    }\n",
       "</style>\n",
       "<table border=\"1\" class=\"dataframe\">\n",
       "  <thead>\n",
       "    <tr style=\"text-align: right;\">\n",
       "      <th></th>\n",
       "      <th>user_id</th>\n",
       "      <th>time</th>\n",
       "      <th>bet</th>\n",
       "      <th>win</th>\n",
       "      <th>datetime</th>\n",
       "      <th>weekday</th>\n",
       "      <th>daytime</th>\n",
       "      <th>net</th>\n",
       "    </tr>\n",
       "  </thead>\n",
       "  <tbody>\n",
       "    <tr>\n",
       "      <th>0</th>\n",
       "      <td>user_919</td>\n",
       "      <td>2019-01-01 14:06:51</td>\n",
       "      <td>0.0</td>\n",
       "      <td>0.0</td>\n",
       "      <td>2019-01-01 14:06:51</td>\n",
       "      <td>1.0</td>\n",
       "      <td>день</td>\n",
       "      <td>0.0</td>\n",
       "    </tr>\n",
       "    <tr>\n",
       "      <th>1</th>\n",
       "      <td>user_973</td>\n",
       "      <td>2019-01-01 14:51:16</td>\n",
       "      <td>0.0</td>\n",
       "      <td>0.0</td>\n",
       "      <td>2019-01-01 14:51:16</td>\n",
       "      <td>1.0</td>\n",
       "      <td>день</td>\n",
       "      <td>0.0</td>\n",
       "    </tr>\n",
       "    <tr>\n",
       "      <th>2</th>\n",
       "      <td>user_903</td>\n",
       "      <td>2019-01-01 16:31:16</td>\n",
       "      <td>0.0</td>\n",
       "      <td>0.0</td>\n",
       "      <td>2019-01-01 16:31:16</td>\n",
       "      <td>1.0</td>\n",
       "      <td>день</td>\n",
       "      <td>0.0</td>\n",
       "    </tr>\n",
       "    <tr>\n",
       "      <th>3</th>\n",
       "      <td>user_954</td>\n",
       "      <td>2019-01-01 17:17:51</td>\n",
       "      <td>0.0</td>\n",
       "      <td>0.0</td>\n",
       "      <td>2019-01-01 17:17:51</td>\n",
       "      <td>1.0</td>\n",
       "      <td>день</td>\n",
       "      <td>0.0</td>\n",
       "    </tr>\n",
       "    <tr>\n",
       "      <th>4</th>\n",
       "      <td>user_954</td>\n",
       "      <td>2019-01-01 21:31:18</td>\n",
       "      <td>0.0</td>\n",
       "      <td>0.0</td>\n",
       "      <td>2019-01-01 21:31:18</td>\n",
       "      <td>1.0</td>\n",
       "      <td>вечер</td>\n",
       "      <td>0.0</td>\n",
       "    </tr>\n",
       "  </tbody>\n",
       "</table>\n",
       "</div>"
      ],
      "text/plain": [
       "     user_id                 time  bet  win            datetime  weekday  \\\n",
       "0   user_919  2019-01-01 14:06:51  0.0  0.0 2019-01-01 14:06:51      1.0   \n",
       "1   user_973  2019-01-01 14:51:16  0.0  0.0 2019-01-01 14:51:16      1.0   \n",
       "2   user_903  2019-01-01 16:31:16  0.0  0.0 2019-01-01 16:31:16      1.0   \n",
       "3   user_954  2019-01-01 17:17:51  0.0  0.0 2019-01-01 17:17:51      1.0   \n",
       "4   user_954  2019-01-01 21:31:18  0.0  0.0 2019-01-01 21:31:18      1.0   \n",
       "\n",
       "  daytime  net  \n",
       "0    день  0.0  \n",
       "1    день  0.0  \n",
       "2    день  0.0  \n",
       "3    день  0.0  \n",
       "4   вечер  0.0  "
      ]
     },
     "execution_count": 65,
     "metadata": {},
     "output_type": "execute_result"
    }
   ],
   "source": [
    "df_logs.head()"
   ]
  },
  {
   "cell_type": "code",
   "execution_count": 69,
   "metadata": {},
   "outputs": [
    {
     "name": "stdout",
     "output_type": "stream",
     "text": [
      "<class 'pandas.core.frame.DataFrame'>\n",
      "Int64Index: 985 entries, 0 to 995\n",
      "Data columns (total 8 columns):\n",
      "user_id     985 non-null object\n",
      "time        985 non-null object\n",
      "bet         985 non-null float64\n",
      "win         985 non-null float64\n",
      "datetime    985 non-null datetime64[ns]\n",
      "weekday     985 non-null float64\n",
      "daytime     985 non-null object\n",
      "net         985 non-null float64\n",
      "dtypes: datetime64[ns](1), float64(4), object(3)\n",
      "memory usage: 69.3+ KB\n"
     ]
    }
   ],
   "source": [
    "df_logs.info()"
   ]
  },
  {
   "cell_type": "code",
   "execution_count": 71,
   "metadata": {},
   "outputs": [],
   "source": [
    "df_users.columns = ['raw_user']"
   ]
  },
  {
   "cell_type": "code",
   "execution_count": 72,
   "metadata": {},
   "outputs": [
    {
     "data": {
      "text/html": [
       "<div>\n",
       "<style scoped>\n",
       "    .dataframe tbody tr th:only-of-type {\n",
       "        vertical-align: middle;\n",
       "    }\n",
       "\n",
       "    .dataframe tbody tr th {\n",
       "        vertical-align: top;\n",
       "    }\n",
       "\n",
       "    .dataframe thead th {\n",
       "        text-align: right;\n",
       "    }\n",
       "</style>\n",
       "<table border=\"1\" class=\"dataframe\">\n",
       "  <thead>\n",
       "    <tr style=\"text-align: right;\">\n",
       "      <th></th>\n",
       "      <th>raw_user</th>\n",
       "    </tr>\n",
       "  </thead>\n",
       "  <tbody>\n",
       "    <tr>\n",
       "      <th>0</th>\n",
       "      <td>User_943\\tAccumanst@gmail.com\\tИжевск</td>\n",
       "    </tr>\n",
       "    <tr>\n",
       "      <th>1</th>\n",
       "      <td>User_908\\tAdvismowr@mail.ru\\tИжевск</td>\n",
       "    </tr>\n",
       "    <tr>\n",
       "      <th>2</th>\n",
       "      <td>User_962\\tAnachso@ukr.net\\tКраснодар</td>\n",
       "    </tr>\n",
       "    <tr>\n",
       "      <th>3</th>\n",
       "      <td>User_973\\tAntecia@inbox.ru\\tПермь</td>\n",
       "    </tr>\n",
       "    <tr>\n",
       "      <th>4</th>\n",
       "      <td>User_902\\tBalliaryva@ukr.net\\t</td>\n",
       "    </tr>\n",
       "  </tbody>\n",
       "</table>\n",
       "</div>"
      ],
      "text/plain": [
       "                                raw_user\n",
       "0  User_943\\tAccumanst@gmail.com\\tИжевск\n",
       "1    User_908\\tAdvismowr@mail.ru\\tИжевск\n",
       "2   User_962\\tAnachso@ukr.net\\tКраснодар\n",
       "3      User_973\\tAntecia@inbox.ru\\tПермь\n",
       "4         User_902\\tBalliaryva@ukr.net\\t"
      ]
     },
     "execution_count": 72,
     "metadata": {},
     "output_type": "execute_result"
    }
   ],
   "source": [
    "df_users.head()"
   ]
  },
  {
   "cell_type": "code",
   "execution_count": 80,
   "metadata": {},
   "outputs": [],
   "source": [
    "for i, field in enumerate(['user_id', 'email', 'city']):\n",
    "    df_users[field] = df_users.raw_user.apply(lambda x: x.split('\\t')[i].lower())"
   ]
  },
  {
   "cell_type": "code",
   "execution_count": 81,
   "metadata": {},
   "outputs": [
    {
     "data": {
      "text/html": [
       "<div>\n",
       "<style scoped>\n",
       "    .dataframe tbody tr th:only-of-type {\n",
       "        vertical-align: middle;\n",
       "    }\n",
       "\n",
       "    .dataframe tbody tr th {\n",
       "        vertical-align: top;\n",
       "    }\n",
       "\n",
       "    .dataframe thead th {\n",
       "        text-align: right;\n",
       "    }\n",
       "</style>\n",
       "<table border=\"1\" class=\"dataframe\">\n",
       "  <thead>\n",
       "    <tr style=\"text-align: right;\">\n",
       "      <th></th>\n",
       "      <th>raw_user</th>\n",
       "      <th>user_id</th>\n",
       "      <th>email</th>\n",
       "      <th>city</th>\n",
       "    </tr>\n",
       "  </thead>\n",
       "  <tbody>\n",
       "    <tr>\n",
       "      <th>0</th>\n",
       "      <td>User_943\\tAccumanst@gmail.com\\tИжевск</td>\n",
       "      <td>user_943</td>\n",
       "      <td>accumanst@gmail.com</td>\n",
       "      <td>ижевск</td>\n",
       "    </tr>\n",
       "    <tr>\n",
       "      <th>1</th>\n",
       "      <td>User_908\\tAdvismowr@mail.ru\\tИжевск</td>\n",
       "      <td>user_908</td>\n",
       "      <td>advismowr@mail.ru</td>\n",
       "      <td>ижевск</td>\n",
       "    </tr>\n",
       "    <tr>\n",
       "      <th>2</th>\n",
       "      <td>User_962\\tAnachso@ukr.net\\tКраснодар</td>\n",
       "      <td>user_962</td>\n",
       "      <td>anachso@ukr.net</td>\n",
       "      <td>краснодар</td>\n",
       "    </tr>\n",
       "    <tr>\n",
       "      <th>3</th>\n",
       "      <td>User_973\\tAntecia@inbox.ru\\tПермь</td>\n",
       "      <td>user_973</td>\n",
       "      <td>antecia@inbox.ru</td>\n",
       "      <td>пермь</td>\n",
       "    </tr>\n",
       "    <tr>\n",
       "      <th>4</th>\n",
       "      <td>User_902\\tBalliaryva@ukr.net\\t</td>\n",
       "      <td>user_902</td>\n",
       "      <td>balliaryva@ukr.net</td>\n",
       "      <td></td>\n",
       "    </tr>\n",
       "  </tbody>\n",
       "</table>\n",
       "</div>"
      ],
      "text/plain": [
       "                                raw_user   user_id                email  \\\n",
       "0  User_943\\tAccumanst@gmail.com\\tИжевск  user_943  accumanst@gmail.com   \n",
       "1    User_908\\tAdvismowr@mail.ru\\tИжевск  user_908    advismowr@mail.ru   \n",
       "2   User_962\\tAnachso@ukr.net\\tКраснодар  user_962      anachso@ukr.net   \n",
       "3      User_973\\tAntecia@inbox.ru\\tПермь  user_973     antecia@inbox.ru   \n",
       "4         User_902\\tBalliaryva@ukr.net\\t  user_902   balliaryva@ukr.net   \n",
       "\n",
       "        city  \n",
       "0     ижевск  \n",
       "1     ижевск  \n",
       "2  краснодар  \n",
       "3      пермь  \n",
       "4             "
      ]
     },
     "execution_count": 81,
     "metadata": {},
     "output_type": "execute_result"
    }
   ],
   "source": [
    "df_users.head()"
   ]
  },
  {
   "cell_type": "code",
   "execution_count": 84,
   "metadata": {},
   "outputs": [],
   "source": [
    "df_users['user_id'] = df_users.user_id.apply(lambda x: int(x.split('_')[1]))"
   ]
  },
  {
   "cell_type": "code",
   "execution_count": 85,
   "metadata": {},
   "outputs": [
    {
     "data": {
      "text/html": [
       "<div>\n",
       "<style scoped>\n",
       "    .dataframe tbody tr th:only-of-type {\n",
       "        vertical-align: middle;\n",
       "    }\n",
       "\n",
       "    .dataframe tbody tr th {\n",
       "        vertical-align: top;\n",
       "    }\n",
       "\n",
       "    .dataframe thead th {\n",
       "        text-align: right;\n",
       "    }\n",
       "</style>\n",
       "<table border=\"1\" class=\"dataframe\">\n",
       "  <thead>\n",
       "    <tr style=\"text-align: right;\">\n",
       "      <th></th>\n",
       "      <th>raw_user</th>\n",
       "      <th>user_id</th>\n",
       "      <th>email</th>\n",
       "      <th>city</th>\n",
       "    </tr>\n",
       "  </thead>\n",
       "  <tbody>\n",
       "    <tr>\n",
       "      <th>0</th>\n",
       "      <td>User_943\\tAccumanst@gmail.com\\tИжевск</td>\n",
       "      <td>943</td>\n",
       "      <td>accumanst@gmail.com</td>\n",
       "      <td>ижевск</td>\n",
       "    </tr>\n",
       "    <tr>\n",
       "      <th>1</th>\n",
       "      <td>User_908\\tAdvismowr@mail.ru\\tИжевск</td>\n",
       "      <td>908</td>\n",
       "      <td>advismowr@mail.ru</td>\n",
       "      <td>ижевск</td>\n",
       "    </tr>\n",
       "    <tr>\n",
       "      <th>2</th>\n",
       "      <td>User_962\\tAnachso@ukr.net\\tКраснодар</td>\n",
       "      <td>962</td>\n",
       "      <td>anachso@ukr.net</td>\n",
       "      <td>краснодар</td>\n",
       "    </tr>\n",
       "    <tr>\n",
       "      <th>3</th>\n",
       "      <td>User_973\\tAntecia@inbox.ru\\tПермь</td>\n",
       "      <td>973</td>\n",
       "      <td>antecia@inbox.ru</td>\n",
       "      <td>пермь</td>\n",
       "    </tr>\n",
       "    <tr>\n",
       "      <th>4</th>\n",
       "      <td>User_902\\tBalliaryva@ukr.net\\t</td>\n",
       "      <td>902</td>\n",
       "      <td>balliaryva@ukr.net</td>\n",
       "      <td></td>\n",
       "    </tr>\n",
       "  </tbody>\n",
       "</table>\n",
       "</div>"
      ],
      "text/plain": [
       "                                raw_user  user_id                email  \\\n",
       "0  User_943\\tAccumanst@gmail.com\\tИжевск      943  accumanst@gmail.com   \n",
       "1    User_908\\tAdvismowr@mail.ru\\tИжевск      908    advismowr@mail.ru   \n",
       "2   User_962\\tAnachso@ukr.net\\tКраснодар      962      anachso@ukr.net   \n",
       "3      User_973\\tAntecia@inbox.ru\\tПермь      973     antecia@inbox.ru   \n",
       "4         User_902\\tBalliaryva@ukr.net\\t      902   balliaryva@ukr.net   \n",
       "\n",
       "        city  \n",
       "0     ижевск  \n",
       "1     ижевск  \n",
       "2  краснодар  \n",
       "3      пермь  \n",
       "4             "
      ]
     },
     "execution_count": 85,
     "metadata": {},
     "output_type": "execute_result"
    }
   ],
   "source": [
    "df_users.head()"
   ]
  },
  {
   "cell_type": "code",
   "execution_count": 86,
   "metadata": {},
   "outputs": [
    {
     "name": "stdout",
     "output_type": "stream",
     "text": [
      "<class 'pandas.core.frame.DataFrame'>\n",
      "RangeIndex: 100 entries, 0 to 99\n",
      "Data columns (total 4 columns):\n",
      "raw_user    100 non-null object\n",
      "user_id     100 non-null int64\n",
      "email       100 non-null object\n",
      "city        100 non-null object\n",
      "dtypes: int64(1), object(3)\n",
      "memory usage: 3.2+ KB\n"
     ]
    }
   ],
   "source": [
    "df_users.info()"
   ]
  },
  {
   "cell_type": "code",
   "execution_count": 88,
   "metadata": {},
   "outputs": [],
   "source": [
    "df_logs['user_id'] = df_logs.user_id.apply(lambda x: int(x.split('_')[1]))"
   ]
  },
  {
   "cell_type": "code",
   "execution_count": 89,
   "metadata": {},
   "outputs": [
    {
     "data": {
      "text/html": [
       "<div>\n",
       "<style scoped>\n",
       "    .dataframe tbody tr th:only-of-type {\n",
       "        vertical-align: middle;\n",
       "    }\n",
       "\n",
       "    .dataframe tbody tr th {\n",
       "        vertical-align: top;\n",
       "    }\n",
       "\n",
       "    .dataframe thead th {\n",
       "        text-align: right;\n",
       "    }\n",
       "</style>\n",
       "<table border=\"1\" class=\"dataframe\">\n",
       "  <thead>\n",
       "    <tr style=\"text-align: right;\">\n",
       "      <th></th>\n",
       "      <th>user_id</th>\n",
       "      <th>time</th>\n",
       "      <th>bet</th>\n",
       "      <th>win</th>\n",
       "      <th>datetime</th>\n",
       "      <th>weekday</th>\n",
       "      <th>daytime</th>\n",
       "      <th>net</th>\n",
       "    </tr>\n",
       "  </thead>\n",
       "  <tbody>\n",
       "    <tr>\n",
       "      <th>0</th>\n",
       "      <td>919</td>\n",
       "      <td>2019-01-01 14:06:51</td>\n",
       "      <td>0.0</td>\n",
       "      <td>0.0</td>\n",
       "      <td>2019-01-01 14:06:51</td>\n",
       "      <td>1.0</td>\n",
       "      <td>день</td>\n",
       "      <td>0.0</td>\n",
       "    </tr>\n",
       "    <tr>\n",
       "      <th>1</th>\n",
       "      <td>973</td>\n",
       "      <td>2019-01-01 14:51:16</td>\n",
       "      <td>0.0</td>\n",
       "      <td>0.0</td>\n",
       "      <td>2019-01-01 14:51:16</td>\n",
       "      <td>1.0</td>\n",
       "      <td>день</td>\n",
       "      <td>0.0</td>\n",
       "    </tr>\n",
       "    <tr>\n",
       "      <th>2</th>\n",
       "      <td>903</td>\n",
       "      <td>2019-01-01 16:31:16</td>\n",
       "      <td>0.0</td>\n",
       "      <td>0.0</td>\n",
       "      <td>2019-01-01 16:31:16</td>\n",
       "      <td>1.0</td>\n",
       "      <td>день</td>\n",
       "      <td>0.0</td>\n",
       "    </tr>\n",
       "    <tr>\n",
       "      <th>3</th>\n",
       "      <td>954</td>\n",
       "      <td>2019-01-01 17:17:51</td>\n",
       "      <td>0.0</td>\n",
       "      <td>0.0</td>\n",
       "      <td>2019-01-01 17:17:51</td>\n",
       "      <td>1.0</td>\n",
       "      <td>день</td>\n",
       "      <td>0.0</td>\n",
       "    </tr>\n",
       "    <tr>\n",
       "      <th>4</th>\n",
       "      <td>954</td>\n",
       "      <td>2019-01-01 21:31:18</td>\n",
       "      <td>0.0</td>\n",
       "      <td>0.0</td>\n",
       "      <td>2019-01-01 21:31:18</td>\n",
       "      <td>1.0</td>\n",
       "      <td>вечер</td>\n",
       "      <td>0.0</td>\n",
       "    </tr>\n",
       "  </tbody>\n",
       "</table>\n",
       "</div>"
      ],
      "text/plain": [
       "   user_id                 time  bet  win            datetime  weekday  \\\n",
       "0      919  2019-01-01 14:06:51  0.0  0.0 2019-01-01 14:06:51      1.0   \n",
       "1      973  2019-01-01 14:51:16  0.0  0.0 2019-01-01 14:51:16      1.0   \n",
       "2      903  2019-01-01 16:31:16  0.0  0.0 2019-01-01 16:31:16      1.0   \n",
       "3      954  2019-01-01 17:17:51  0.0  0.0 2019-01-01 17:17:51      1.0   \n",
       "4      954  2019-01-01 21:31:18  0.0  0.0 2019-01-01 21:31:18      1.0   \n",
       "\n",
       "  daytime  net  \n",
       "0    день  0.0  \n",
       "1    день  0.0  \n",
       "2    день  0.0  \n",
       "3    день  0.0  \n",
       "4   вечер  0.0  "
      ]
     },
     "execution_count": 89,
     "metadata": {},
     "output_type": "execute_result"
    }
   ],
   "source": [
    "df_logs.head()"
   ]
  },
  {
   "cell_type": "code",
   "execution_count": 90,
   "metadata": {},
   "outputs": [
    {
     "name": "stdout",
     "output_type": "stream",
     "text": [
      "<class 'pandas.core.frame.DataFrame'>\n",
      "Int64Index: 985 entries, 0 to 995\n",
      "Data columns (total 8 columns):\n",
      "user_id     985 non-null int64\n",
      "time        985 non-null object\n",
      "bet         985 non-null float64\n",
      "win         985 non-null float64\n",
      "datetime    985 non-null datetime64[ns]\n",
      "weekday     985 non-null float64\n",
      "daytime     985 non-null object\n",
      "net         985 non-null float64\n",
      "dtypes: datetime64[ns](1), float64(4), int64(1), object(2)\n",
      "memory usage: 69.3+ KB\n"
     ]
    }
   ],
   "source": [
    "df_logs.info()"
   ]
  },
  {
   "cell_type": "code",
   "execution_count": 93,
   "metadata": {},
   "outputs": [],
   "source": [
    "merged = pd.merge(df_users, df_logs, on='user_id') "
   ]
  },
  {
   "cell_type": "code",
   "execution_count": 94,
   "metadata": {},
   "outputs": [
    {
     "name": "stdout",
     "output_type": "stream",
     "text": [
      "<class 'pandas.core.frame.DataFrame'>\n",
      "Int64Index: 975 entries, 0 to 974\n",
      "Data columns (total 11 columns):\n",
      "raw_user    975 non-null object\n",
      "user_id     975 non-null int64\n",
      "email       975 non-null object\n",
      "city        975 non-null object\n",
      "time        975 non-null object\n",
      "bet         975 non-null float64\n",
      "win         975 non-null float64\n",
      "datetime    975 non-null datetime64[ns]\n",
      "weekday     975 non-null float64\n",
      "daytime     975 non-null object\n",
      "net         975 non-null float64\n",
      "dtypes: datetime64[ns](1), float64(4), int64(1), object(5)\n",
      "memory usage: 91.4+ KB\n"
     ]
    }
   ],
   "source": [
    "merged.info()"
   ]
  },
  {
   "cell_type": "code",
   "execution_count": 95,
   "metadata": {},
   "outputs": [
    {
     "data": {
      "text/plain": [
       "user_id     985\n",
       "time        985\n",
       "bet         985\n",
       "win         985\n",
       "datetime    985\n",
       "weekday     985\n",
       "daytime     985\n",
       "net         985\n",
       "dtype: int64"
      ]
     },
     "execution_count": 95,
     "metadata": {},
     "output_type": "execute_result"
    }
   ],
   "source": [
    "df_logs.count()"
   ]
  },
  {
   "cell_type": "code",
   "execution_count": 97,
   "metadata": {},
   "outputs": [
    {
     "data": {
      "text/html": [
       "<div>\n",
       "<style scoped>\n",
       "    .dataframe tbody tr th:only-of-type {\n",
       "        vertical-align: middle;\n",
       "    }\n",
       "\n",
       "    .dataframe tbody tr th {\n",
       "        vertical-align: top;\n",
       "    }\n",
       "\n",
       "    .dataframe thead th {\n",
       "        text-align: right;\n",
       "    }\n",
       "</style>\n",
       "<table border=\"1\" class=\"dataframe\">\n",
       "  <thead>\n",
       "    <tr style=\"text-align: right;\">\n",
       "      <th></th>\n",
       "      <th>raw_user</th>\n",
       "      <th>user_id</th>\n",
       "      <th>email</th>\n",
       "      <th>city</th>\n",
       "      <th>time</th>\n",
       "      <th>bet</th>\n",
       "      <th>win</th>\n",
       "      <th>datetime</th>\n",
       "      <th>weekday</th>\n",
       "      <th>daytime</th>\n",
       "      <th>net</th>\n",
       "    </tr>\n",
       "  </thead>\n",
       "  <tbody>\n",
       "    <tr>\n",
       "      <th>0</th>\n",
       "      <td>User_943\\tAccumanst@gmail.com\\tИжевск</td>\n",
       "      <td>943</td>\n",
       "      <td>accumanst@gmail.com</td>\n",
       "      <td>ижевск</td>\n",
       "      <td>2019-01-06 21:06:57</td>\n",
       "      <td>0.0</td>\n",
       "      <td>0.0</td>\n",
       "      <td>2019-01-06 21:06:57</td>\n",
       "      <td>6.0</td>\n",
       "      <td>вечер</td>\n",
       "      <td>0.0</td>\n",
       "    </tr>\n",
       "    <tr>\n",
       "      <th>1</th>\n",
       "      <td>User_943\\tAccumanst@gmail.com\\tИжевск</td>\n",
       "      <td>943</td>\n",
       "      <td>accumanst@gmail.com</td>\n",
       "      <td>ижевск</td>\n",
       "      <td>2019-01-10 12:16:22</td>\n",
       "      <td>100.0</td>\n",
       "      <td>0.0</td>\n",
       "      <td>2019-01-10 12:16:22</td>\n",
       "      <td>3.0</td>\n",
       "      <td>день</td>\n",
       "      <td>-100.0</td>\n",
       "    </tr>\n",
       "    <tr>\n",
       "      <th>2</th>\n",
       "      <td>User_943\\tAccumanst@gmail.com\\tИжевск</td>\n",
       "      <td>943</td>\n",
       "      <td>accumanst@gmail.com</td>\n",
       "      <td>ижевск</td>\n",
       "      <td>2019-01-27 1:18:47</td>\n",
       "      <td>100.0</td>\n",
       "      <td>0.0</td>\n",
       "      <td>2019-01-27 01:18:47</td>\n",
       "      <td>6.0</td>\n",
       "      <td>ночь</td>\n",
       "      <td>-100.0</td>\n",
       "    </tr>\n",
       "    <tr>\n",
       "      <th>3</th>\n",
       "      <td>User_943\\tAccumanst@gmail.com\\tИжевск</td>\n",
       "      <td>943</td>\n",
       "      <td>accumanst@gmail.com</td>\n",
       "      <td>ижевск</td>\n",
       "      <td>2019-02-10 11:09:24</td>\n",
       "      <td>100.0</td>\n",
       "      <td>5456.0</td>\n",
       "      <td>2019-02-10 11:09:24</td>\n",
       "      <td>6.0</td>\n",
       "      <td>утро</td>\n",
       "      <td>5356.0</td>\n",
       "    </tr>\n",
       "    <tr>\n",
       "      <th>4</th>\n",
       "      <td>User_943\\tAccumanst@gmail.com\\tИжевск</td>\n",
       "      <td>943</td>\n",
       "      <td>accumanst@gmail.com</td>\n",
       "      <td>ижевск</td>\n",
       "      <td>2019-02-12 15:09:38</td>\n",
       "      <td>300.0</td>\n",
       "      <td>5245.0</td>\n",
       "      <td>2019-02-12 15:09:38</td>\n",
       "      <td>1.0</td>\n",
       "      <td>день</td>\n",
       "      <td>4945.0</td>\n",
       "    </tr>\n",
       "  </tbody>\n",
       "</table>\n",
       "</div>"
      ],
      "text/plain": [
       "                                raw_user  user_id                email  \\\n",
       "0  User_943\\tAccumanst@gmail.com\\tИжевск      943  accumanst@gmail.com   \n",
       "1  User_943\\tAccumanst@gmail.com\\tИжевск      943  accumanst@gmail.com   \n",
       "2  User_943\\tAccumanst@gmail.com\\tИжевск      943  accumanst@gmail.com   \n",
       "3  User_943\\tAccumanst@gmail.com\\tИжевск      943  accumanst@gmail.com   \n",
       "4  User_943\\tAccumanst@gmail.com\\tИжевск      943  accumanst@gmail.com   \n",
       "\n",
       "     city                 time    bet     win            datetime  weekday  \\\n",
       "0  ижевск  2019-01-06 21:06:57    0.0     0.0 2019-01-06 21:06:57      6.0   \n",
       "1  ижевск  2019-01-10 12:16:22  100.0     0.0 2019-01-10 12:16:22      3.0   \n",
       "2  ижевск   2019-01-27 1:18:47  100.0     0.0 2019-01-27 01:18:47      6.0   \n",
       "3  ижевск  2019-02-10 11:09:24  100.0  5456.0 2019-02-10 11:09:24      6.0   \n",
       "4  ижевск  2019-02-12 15:09:38  300.0  5245.0 2019-02-12 15:09:38      1.0   \n",
       "\n",
       "  daytime     net  \n",
       "0   вечер     0.0  \n",
       "1    день  -100.0  \n",
       "2    ночь  -100.0  \n",
       "3    утро  5356.0  \n",
       "4    день  4945.0  "
      ]
     },
     "execution_count": 97,
     "metadata": {},
     "output_type": "execute_result"
    }
   ],
   "source": [
    "merged.head()"
   ]
  },
  {
   "cell_type": "markdown",
   "metadata": {},
   "source": [
    "Задание 1\n",
    "0/1 point (graded)\n",
    "Используйте датасет, который получился в результате всех преобразований выше (в том числе, заполнение пропусков). Ответ запишите в поле ниже в виде целого числа (отбросьте дробную часть).\n",
    "\n",
    "Посчитайте медиану баланса по каждому пользователю. Для этого сгруппируйте по пользователям, возьмите признак net, просуммируйте по каждому пользователю и получите медиану."
   ]
  },
  {
   "cell_type": "code",
   "execution_count": 114,
   "metadata": {},
   "outputs": [
    {
     "data": {
      "text/plain": [
       "1986.0"
      ]
     },
     "execution_count": 114,
     "metadata": {},
     "output_type": "execute_result"
    }
   ],
   "source": [
    "merged.groupby('user_id').net.sum().median()"
   ]
  },
  {
   "cell_type": "markdown",
   "metadata": {},
   "source": [
    "Задание 2*\n",
    "1 point possible (graded)\n",
    "Используйте датасет, который получился в результате всех преобразований выше (в том числе, заполнение пропусков). Ответ запишите в поле ниже в виде целого числа (отбросьте дробную часть).\n",
    "\n",
    "Сколько раз в среднем каждый человек приходит, не делая ставок, при условии, что у этого человека все-таки есть хотя бы одна ставка? Например: Человек посетил букмекерскую контору 5 раз из них 1 раз сделал ставку, 4 раза нет - условие выполняется. Человек посетил букмекерскую контору 5 раз из них ни разу ставку не сделал - условие не выполняется. Для того, чтобы узнать это, просуммируйте в каждой группе количество записей со ставкой, равной 0, и поделите на общее количество групп. Если при этом в группе нет записей со ставкой больше 0, считаем количество записей в данной группе равным 0."
   ]
  },
  {
   "cell_type": "code",
   "execution_count": 154,
   "metadata": {},
   "outputs": [
    {
     "data": {
      "text/plain": [
       "5"
      ]
     },
     "execution_count": 154,
     "metadata": {},
     "output_type": "execute_result"
    }
   ],
   "source": [
    "math.trunc(merged[merged.user_id.isin(merged[merged.bet > 0].user_id.unique()) & merged.bet == 0].groupby('user_id').count().mean()[0])"
   ]
  },
  {
   "cell_type": "markdown",
   "metadata": {},
   "source": [
    "Задание 3**\n",
    "1 point possible (graded)\n",
    "Используйте датасет, который получился в результате всех преобразований выше (в том числе, заполнение пропусков). Ответ запишите в поле ниже в виде целого числа - количества дней.\n",
    "\n",
    "Сколько в среднем времени проходит между появлением человека в сервисе и первой ставкой? Считать нужно только тех, кто делал ставку. Для того, чтобы узнать это, напишите метод, считающий минимальное время среди ставок, равных 0, и минимальное время среди ставок больше 0. После этого верните разницу между вторым и первым числом. Пройдитесь по всем группам в цикле. Если в группе нет ставок больше 0, пропустите эту группу. Просуммируйте разницу во времени для каждой группы (с помощью метода, описанного выше) и поделите на количество групп, которые вы не пропустили.\n",
    "Например, если ваш результат Timedelta('23 days 12:24:32'), то в поле пишите 23."
   ]
  },
  {
   "cell_type": "code",
   "execution_count": 158,
   "metadata": {},
   "outputs": [],
   "source": [
    "only_bet_users = merged[merged.user_id.isin(merged[merged.bet > 0].user_id.unique())]"
   ]
  },
  {
   "cell_type": "code",
   "execution_count": 185,
   "metadata": {},
   "outputs": [],
   "source": [
    "only_bet_users['max_time_with_zero_bet'] = only_bet_users.apply(lambda x: only_bet_users[(only_bet_users.user_id == x.user_id) & (only_bet_users.bet == 0)].time.max(), axis=1)"
   ]
  },
  {
   "cell_type": "code",
   "execution_count": 186,
   "metadata": {},
   "outputs": [
    {
     "data": {
      "text/html": [
       "<div>\n",
       "<style scoped>\n",
       "    .dataframe tbody tr th:only-of-type {\n",
       "        vertical-align: middle;\n",
       "    }\n",
       "\n",
       "    .dataframe tbody tr th {\n",
       "        vertical-align: top;\n",
       "    }\n",
       "\n",
       "    .dataframe thead th {\n",
       "        text-align: right;\n",
       "    }\n",
       "</style>\n",
       "<table border=\"1\" class=\"dataframe\">\n",
       "  <thead>\n",
       "    <tr style=\"text-align: right;\">\n",
       "      <th></th>\n",
       "      <th>raw_user</th>\n",
       "      <th>user_id</th>\n",
       "      <th>email</th>\n",
       "      <th>city</th>\n",
       "      <th>time</th>\n",
       "      <th>bet</th>\n",
       "      <th>win</th>\n",
       "      <th>datetime</th>\n",
       "      <th>weekday</th>\n",
       "      <th>daytime</th>\n",
       "      <th>net</th>\n",
       "      <th>first_bet_time</th>\n",
       "      <th>max_time_with_zero_bet</th>\n",
       "    </tr>\n",
       "  </thead>\n",
       "  <tbody>\n",
       "    <tr>\n",
       "      <th>0</th>\n",
       "      <td>User_943\\tAccumanst@gmail.com\\tИжевск</td>\n",
       "      <td>943</td>\n",
       "      <td>accumanst@gmail.com</td>\n",
       "      <td>ижевск</td>\n",
       "      <td>2019-01-06 21:06:57</td>\n",
       "      <td>0.0</td>\n",
       "      <td>0.0</td>\n",
       "      <td>2019-01-06 21:06:57</td>\n",
       "      <td>6.0</td>\n",
       "      <td>вечер</td>\n",
       "      <td>0.0</td>\n",
       "      <td>2019-01-06 21:06:57</td>\n",
       "      <td>2019-01-06 21:06:57</td>\n",
       "    </tr>\n",
       "    <tr>\n",
       "      <th>1</th>\n",
       "      <td>User_943\\tAccumanst@gmail.com\\tИжевск</td>\n",
       "      <td>943</td>\n",
       "      <td>accumanst@gmail.com</td>\n",
       "      <td>ижевск</td>\n",
       "      <td>2019-01-10 12:16:22</td>\n",
       "      <td>100.0</td>\n",
       "      <td>0.0</td>\n",
       "      <td>2019-01-10 12:16:22</td>\n",
       "      <td>3.0</td>\n",
       "      <td>день</td>\n",
       "      <td>-100.0</td>\n",
       "      <td>2019-01-06 21:06:57</td>\n",
       "      <td>2019-01-06 21:06:57</td>\n",
       "    </tr>\n",
       "    <tr>\n",
       "      <th>2</th>\n",
       "      <td>User_943\\tAccumanst@gmail.com\\tИжевск</td>\n",
       "      <td>943</td>\n",
       "      <td>accumanst@gmail.com</td>\n",
       "      <td>ижевск</td>\n",
       "      <td>2019-01-27 1:18:47</td>\n",
       "      <td>100.0</td>\n",
       "      <td>0.0</td>\n",
       "      <td>2019-01-27 01:18:47</td>\n",
       "      <td>6.0</td>\n",
       "      <td>ночь</td>\n",
       "      <td>-100.0</td>\n",
       "      <td>2019-01-06 21:06:57</td>\n",
       "      <td>2019-01-06 21:06:57</td>\n",
       "    </tr>\n",
       "    <tr>\n",
       "      <th>3</th>\n",
       "      <td>User_943\\tAccumanst@gmail.com\\tИжевск</td>\n",
       "      <td>943</td>\n",
       "      <td>accumanst@gmail.com</td>\n",
       "      <td>ижевск</td>\n",
       "      <td>2019-02-10 11:09:24</td>\n",
       "      <td>100.0</td>\n",
       "      <td>5456.0</td>\n",
       "      <td>2019-02-10 11:09:24</td>\n",
       "      <td>6.0</td>\n",
       "      <td>утро</td>\n",
       "      <td>5356.0</td>\n",
       "      <td>2019-01-06 21:06:57</td>\n",
       "      <td>2019-01-06 21:06:57</td>\n",
       "    </tr>\n",
       "    <tr>\n",
       "      <th>4</th>\n",
       "      <td>User_943\\tAccumanst@gmail.com\\tИжевск</td>\n",
       "      <td>943</td>\n",
       "      <td>accumanst@gmail.com</td>\n",
       "      <td>ижевск</td>\n",
       "      <td>2019-02-12 15:09:38</td>\n",
       "      <td>300.0</td>\n",
       "      <td>5245.0</td>\n",
       "      <td>2019-02-12 15:09:38</td>\n",
       "      <td>1.0</td>\n",
       "      <td>день</td>\n",
       "      <td>4945.0</td>\n",
       "      <td>2019-01-06 21:06:57</td>\n",
       "      <td>2019-01-06 21:06:57</td>\n",
       "    </tr>\n",
       "  </tbody>\n",
       "</table>\n",
       "</div>"
      ],
      "text/plain": [
       "                                raw_user  user_id                email  \\\n",
       "0  User_943\\tAccumanst@gmail.com\\tИжевск      943  accumanst@gmail.com   \n",
       "1  User_943\\tAccumanst@gmail.com\\tИжевск      943  accumanst@gmail.com   \n",
       "2  User_943\\tAccumanst@gmail.com\\tИжевск      943  accumanst@gmail.com   \n",
       "3  User_943\\tAccumanst@gmail.com\\tИжевск      943  accumanst@gmail.com   \n",
       "4  User_943\\tAccumanst@gmail.com\\tИжевск      943  accumanst@gmail.com   \n",
       "\n",
       "     city                 time    bet     win            datetime  weekday  \\\n",
       "0  ижевск  2019-01-06 21:06:57    0.0     0.0 2019-01-06 21:06:57      6.0   \n",
       "1  ижевск  2019-01-10 12:16:22  100.0     0.0 2019-01-10 12:16:22      3.0   \n",
       "2  ижевск   2019-01-27 1:18:47  100.0     0.0 2019-01-27 01:18:47      6.0   \n",
       "3  ижевск  2019-02-10 11:09:24  100.0  5456.0 2019-02-10 11:09:24      6.0   \n",
       "4  ижевск  2019-02-12 15:09:38  300.0  5245.0 2019-02-12 15:09:38      1.0   \n",
       "\n",
       "  daytime     net       first_bet_time max_time_with_zero_bet  \n",
       "0   вечер     0.0  2019-01-06 21:06:57    2019-01-06 21:06:57  \n",
       "1    день  -100.0  2019-01-06 21:06:57    2019-01-06 21:06:57  \n",
       "2    ночь  -100.0  2019-01-06 21:06:57    2019-01-06 21:06:57  \n",
       "3    утро  5356.0  2019-01-06 21:06:57    2019-01-06 21:06:57  \n",
       "4    день  4945.0  2019-01-06 21:06:57    2019-01-06 21:06:57  "
      ]
     },
     "execution_count": 186,
     "metadata": {},
     "output_type": "execute_result"
    }
   ],
   "source": [
    "only_bet_users.head()"
   ]
  },
  {
   "cell_type": "code",
   "execution_count": 191,
   "metadata": {},
   "outputs": [],
   "source": [
    "only_bet_users['min_time_with_zero_bet'] = only_bet_users.apply(lambda x: pd.to_datetime(only_bet_users[(only_bet_users.user_id == x.user_id) & (only_bet_users.bet == 0)].time.min()), axis=1)"
   ]
  },
  {
   "cell_type": "code",
   "execution_count": 190,
   "metadata": {},
   "outputs": [],
   "source": [
    "only_bet_users['min_time_with_nonzero_bet'] = only_bet_users.apply(lambda x: pd.to_datetime(only_bet_users[(only_bet_users.user_id == x.user_id) & (only_bet_users.bet > 0)].time.min()), axis=1)"
   ]
  },
  {
   "cell_type": "code",
   "execution_count": 201,
   "metadata": {},
   "outputs": [],
   "source": [
    "only_bet_users['first_bet_time'] = only_bet_users.min_time_with_zero_bet - only_bet_users.min_time_with_nonzero_bet"
   ]
  },
  {
   "cell_type": "code",
   "execution_count": 202,
   "metadata": {},
   "outputs": [
    {
     "data": {
      "text/plain": [
       "Timedelta('-46 days +23:37:52.307692')"
      ]
     },
     "execution_count": 202,
     "metadata": {},
     "output_type": "execute_result"
    }
   ],
   "source": [
    "only_bet_users['first_bet_time'].mean()"
   ]
  },
  {
   "cell_type": "code",
   "execution_count": 200,
   "metadata": {},
   "outputs": [
    {
     "data": {
      "text/html": [
       "<div>\n",
       "<style scoped>\n",
       "    .dataframe tbody tr th:only-of-type {\n",
       "        vertical-align: middle;\n",
       "    }\n",
       "\n",
       "    .dataframe tbody tr th {\n",
       "        vertical-align: top;\n",
       "    }\n",
       "\n",
       "    .dataframe thead th {\n",
       "        text-align: right;\n",
       "    }\n",
       "</style>\n",
       "<table border=\"1\" class=\"dataframe\">\n",
       "  <thead>\n",
       "    <tr style=\"text-align: right;\">\n",
       "      <th></th>\n",
       "      <th>raw_user</th>\n",
       "      <th>user_id</th>\n",
       "      <th>email</th>\n",
       "      <th>city</th>\n",
       "      <th>time</th>\n",
       "      <th>bet</th>\n",
       "      <th>win</th>\n",
       "      <th>datetime</th>\n",
       "      <th>weekday</th>\n",
       "      <th>daytime</th>\n",
       "      <th>net</th>\n",
       "      <th>first_bet_time</th>\n",
       "      <th>max_time_with_zero_bet</th>\n",
       "      <th>min_time_with_zero_bet</th>\n",
       "      <th>min_time_with_nonzero_bet</th>\n",
       "    </tr>\n",
       "  </thead>\n",
       "  <tbody>\n",
       "    <tr>\n",
       "      <th>835</th>\n",
       "      <td>User_944\\tSeenomvura@yahoo.com\\tЕкатеринбург</td>\n",
       "      <td>944</td>\n",
       "      <td>seenomvura@yahoo.com</td>\n",
       "      <td>екатеринбург</td>\n",
       "      <td>2019-01-07 19:45:03</td>\n",
       "      <td>0.0</td>\n",
       "      <td>0.0</td>\n",
       "      <td>2019-01-07 19:45:03</td>\n",
       "      <td>0.0</td>\n",
       "      <td>вечер</td>\n",
       "      <td>0.0</td>\n",
       "      <td>57 days 02:04:28</td>\n",
       "      <td>2019-03-05 4:29:48</td>\n",
       "      <td>2019-01-07 19:45:03</td>\n",
       "      <td>2019-03-05 21:49:31</td>\n",
       "    </tr>\n",
       "    <tr>\n",
       "      <th>836</th>\n",
       "      <td>User_944\\tSeenomvura@yahoo.com\\tЕкатеринбург</td>\n",
       "      <td>944</td>\n",
       "      <td>seenomvura@yahoo.com</td>\n",
       "      <td>екатеринбург</td>\n",
       "      <td>2019-01-16 19:58:56</td>\n",
       "      <td>0.0</td>\n",
       "      <td>0.0</td>\n",
       "      <td>2019-01-16 19:58:56</td>\n",
       "      <td>2.0</td>\n",
       "      <td>вечер</td>\n",
       "      <td>0.0</td>\n",
       "      <td>57 days 02:04:28</td>\n",
       "      <td>2019-03-05 4:29:48</td>\n",
       "      <td>2019-01-07 19:45:03</td>\n",
       "      <td>2019-03-05 21:49:31</td>\n",
       "    </tr>\n",
       "    <tr>\n",
       "      <th>837</th>\n",
       "      <td>User_944\\tSeenomvura@yahoo.com\\tЕкатеринбург</td>\n",
       "      <td>944</td>\n",
       "      <td>seenomvura@yahoo.com</td>\n",
       "      <td>екатеринбург</td>\n",
       "      <td>2019-02-15 22:17:01</td>\n",
       "      <td>0.0</td>\n",
       "      <td>0.0</td>\n",
       "      <td>2019-02-15 22:17:01</td>\n",
       "      <td>4.0</td>\n",
       "      <td>вечер</td>\n",
       "      <td>0.0</td>\n",
       "      <td>57 days 02:04:28</td>\n",
       "      <td>2019-03-05 4:29:48</td>\n",
       "      <td>2019-01-07 19:45:03</td>\n",
       "      <td>2019-03-05 21:49:31</td>\n",
       "    </tr>\n",
       "    <tr>\n",
       "      <th>838</th>\n",
       "      <td>User_944\\tSeenomvura@yahoo.com\\tЕкатеринбург</td>\n",
       "      <td>944</td>\n",
       "      <td>seenomvura@yahoo.com</td>\n",
       "      <td>екатеринбург</td>\n",
       "      <td>2019-02-25 19:53:44</td>\n",
       "      <td>0.0</td>\n",
       "      <td>0.0</td>\n",
       "      <td>2019-02-25 19:53:44</td>\n",
       "      <td>0.0</td>\n",
       "      <td>вечер</td>\n",
       "      <td>0.0</td>\n",
       "      <td>57 days 02:04:28</td>\n",
       "      <td>2019-03-05 4:29:48</td>\n",
       "      <td>2019-01-07 19:45:03</td>\n",
       "      <td>2019-03-05 21:49:31</td>\n",
       "    </tr>\n",
       "    <tr>\n",
       "      <th>839</th>\n",
       "      <td>User_944\\tSeenomvura@yahoo.com\\tЕкатеринбург</td>\n",
       "      <td>944</td>\n",
       "      <td>seenomvura@yahoo.com</td>\n",
       "      <td>екатеринбург</td>\n",
       "      <td>2019-03-05 21:49:31</td>\n",
       "      <td>100.0</td>\n",
       "      <td>4119.0</td>\n",
       "      <td>2019-03-05 21:49:31</td>\n",
       "      <td>1.0</td>\n",
       "      <td>вечер</td>\n",
       "      <td>4019.0</td>\n",
       "      <td>57 days 02:04:28</td>\n",
       "      <td>2019-03-05 4:29:48</td>\n",
       "      <td>2019-01-07 19:45:03</td>\n",
       "      <td>2019-03-05 21:49:31</td>\n",
       "    </tr>\n",
       "    <tr>\n",
       "      <th>840</th>\n",
       "      <td>User_944\\tSeenomvura@yahoo.com\\tЕкатеринбург</td>\n",
       "      <td>944</td>\n",
       "      <td>seenomvura@yahoo.com</td>\n",
       "      <td>екатеринбург</td>\n",
       "      <td>2019-03-05 4:29:48</td>\n",
       "      <td>0.0</td>\n",
       "      <td>0.0</td>\n",
       "      <td>2019-03-05 04:29:48</td>\n",
       "      <td>1.0</td>\n",
       "      <td>ночь</td>\n",
       "      <td>0.0</td>\n",
       "      <td>57 days 02:04:28</td>\n",
       "      <td>2019-03-05 4:29:48</td>\n",
       "      <td>2019-01-07 19:45:03</td>\n",
       "      <td>2019-03-05 21:49:31</td>\n",
       "    </tr>\n",
       "    <tr>\n",
       "      <th>841</th>\n",
       "      <td>User_944\\tSeenomvura@yahoo.com\\tЕкатеринбург</td>\n",
       "      <td>944</td>\n",
       "      <td>seenomvura@yahoo.com</td>\n",
       "      <td>екатеринбург</td>\n",
       "      <td>2019-03-22 19:02:28</td>\n",
       "      <td>500.0</td>\n",
       "      <td>5217.0</td>\n",
       "      <td>2019-03-22 19:02:28</td>\n",
       "      <td>4.0</td>\n",
       "      <td>вечер</td>\n",
       "      <td>4717.0</td>\n",
       "      <td>57 days 02:04:28</td>\n",
       "      <td>2019-03-05 4:29:48</td>\n",
       "      <td>2019-01-07 19:45:03</td>\n",
       "      <td>2019-03-05 21:49:31</td>\n",
       "    </tr>\n",
       "    <tr>\n",
       "      <th>842</th>\n",
       "      <td>User_944\\tSeenomvura@yahoo.com\\tЕкатеринбург</td>\n",
       "      <td>944</td>\n",
       "      <td>seenomvura@yahoo.com</td>\n",
       "      <td>екатеринбург</td>\n",
       "      <td>2019-04-15 9:19:57</td>\n",
       "      <td>700.0</td>\n",
       "      <td>5453.0</td>\n",
       "      <td>2019-04-15 09:19:57</td>\n",
       "      <td>0.0</td>\n",
       "      <td>утро</td>\n",
       "      <td>4753.0</td>\n",
       "      <td>57 days 02:04:28</td>\n",
       "      <td>2019-03-05 4:29:48</td>\n",
       "      <td>2019-01-07 19:45:03</td>\n",
       "      <td>2019-03-05 21:49:31</td>\n",
       "    </tr>\n",
       "  </tbody>\n",
       "</table>\n",
       "</div>"
      ],
      "text/plain": [
       "                                         raw_user  user_id  \\\n",
       "835  User_944\\tSeenomvura@yahoo.com\\tЕкатеринбург      944   \n",
       "836  User_944\\tSeenomvura@yahoo.com\\tЕкатеринбург      944   \n",
       "837  User_944\\tSeenomvura@yahoo.com\\tЕкатеринбург      944   \n",
       "838  User_944\\tSeenomvura@yahoo.com\\tЕкатеринбург      944   \n",
       "839  User_944\\tSeenomvura@yahoo.com\\tЕкатеринбург      944   \n",
       "840  User_944\\tSeenomvura@yahoo.com\\tЕкатеринбург      944   \n",
       "841  User_944\\tSeenomvura@yahoo.com\\tЕкатеринбург      944   \n",
       "842  User_944\\tSeenomvura@yahoo.com\\tЕкатеринбург      944   \n",
       "\n",
       "                    email          city                 time    bet     win  \\\n",
       "835  seenomvura@yahoo.com  екатеринбург  2019-01-07 19:45:03    0.0     0.0   \n",
       "836  seenomvura@yahoo.com  екатеринбург  2019-01-16 19:58:56    0.0     0.0   \n",
       "837  seenomvura@yahoo.com  екатеринбург  2019-02-15 22:17:01    0.0     0.0   \n",
       "838  seenomvura@yahoo.com  екатеринбург  2019-02-25 19:53:44    0.0     0.0   \n",
       "839  seenomvura@yahoo.com  екатеринбург  2019-03-05 21:49:31  100.0  4119.0   \n",
       "840  seenomvura@yahoo.com  екатеринбург   2019-03-05 4:29:48    0.0     0.0   \n",
       "841  seenomvura@yahoo.com  екатеринбург  2019-03-22 19:02:28  500.0  5217.0   \n",
       "842  seenomvura@yahoo.com  екатеринбург   2019-04-15 9:19:57  700.0  5453.0   \n",
       "\n",
       "               datetime  weekday daytime     net   first_bet_time  \\\n",
       "835 2019-01-07 19:45:03      0.0   вечер     0.0 57 days 02:04:28   \n",
       "836 2019-01-16 19:58:56      2.0   вечер     0.0 57 days 02:04:28   \n",
       "837 2019-02-15 22:17:01      4.0   вечер     0.0 57 days 02:04:28   \n",
       "838 2019-02-25 19:53:44      0.0   вечер     0.0 57 days 02:04:28   \n",
       "839 2019-03-05 21:49:31      1.0   вечер  4019.0 57 days 02:04:28   \n",
       "840 2019-03-05 04:29:48      1.0    ночь     0.0 57 days 02:04:28   \n",
       "841 2019-03-22 19:02:28      4.0   вечер  4717.0 57 days 02:04:28   \n",
       "842 2019-04-15 09:19:57      0.0    утро  4753.0 57 days 02:04:28   \n",
       "\n",
       "    max_time_with_zero_bet min_time_with_zero_bet min_time_with_nonzero_bet  \n",
       "835     2019-03-05 4:29:48    2019-01-07 19:45:03       2019-03-05 21:49:31  \n",
       "836     2019-03-05 4:29:48    2019-01-07 19:45:03       2019-03-05 21:49:31  \n",
       "837     2019-03-05 4:29:48    2019-01-07 19:45:03       2019-03-05 21:49:31  \n",
       "838     2019-03-05 4:29:48    2019-01-07 19:45:03       2019-03-05 21:49:31  \n",
       "839     2019-03-05 4:29:48    2019-01-07 19:45:03       2019-03-05 21:49:31  \n",
       "840     2019-03-05 4:29:48    2019-01-07 19:45:03       2019-03-05 21:49:31  \n",
       "841     2019-03-05 4:29:48    2019-01-07 19:45:03       2019-03-05 21:49:31  \n",
       "842     2019-03-05 4:29:48    2019-01-07 19:45:03       2019-03-05 21:49:31  "
      ]
     },
     "execution_count": 200,
     "metadata": {},
     "output_type": "execute_result"
    }
   ],
   "source": [
    "only_bet_users[only_bet_users.user_id == 944]"
   ]
  },
  {
   "cell_type": "code",
   "execution_count": 206,
   "metadata": {},
   "outputs": [],
   "source": [
    "merged.drop('raw_user', axis=1, inplace=True)\n",
    "only_bet_users.drop('raw_user', axis=1, inplace=True)"
   ]
  },
  {
   "cell_type": "code",
   "execution_count": 207,
   "metadata": {},
   "outputs": [
    {
     "data": {
      "text/html": [
       "<div>\n",
       "<style scoped>\n",
       "    .dataframe tbody tr th:only-of-type {\n",
       "        vertical-align: middle;\n",
       "    }\n",
       "\n",
       "    .dataframe tbody tr th {\n",
       "        vertical-align: top;\n",
       "    }\n",
       "\n",
       "    .dataframe thead th {\n",
       "        text-align: right;\n",
       "    }\n",
       "</style>\n",
       "<table border=\"1\" class=\"dataframe\">\n",
       "  <thead>\n",
       "    <tr style=\"text-align: right;\">\n",
       "      <th></th>\n",
       "      <th>user_id</th>\n",
       "      <th>email</th>\n",
       "      <th>city</th>\n",
       "      <th>time</th>\n",
       "      <th>bet</th>\n",
       "      <th>win</th>\n",
       "      <th>datetime</th>\n",
       "      <th>weekday</th>\n",
       "      <th>daytime</th>\n",
       "      <th>net</th>\n",
       "    </tr>\n",
       "  </thead>\n",
       "  <tbody>\n",
       "    <tr>\n",
       "      <th>0</th>\n",
       "      <td>943</td>\n",
       "      <td>accumanst@gmail.com</td>\n",
       "      <td>ижевск</td>\n",
       "      <td>2019-01-06 21:06:57</td>\n",
       "      <td>0.0</td>\n",
       "      <td>0.0</td>\n",
       "      <td>2019-01-06 21:06:57</td>\n",
       "      <td>6.0</td>\n",
       "      <td>вечер</td>\n",
       "      <td>0.0</td>\n",
       "    </tr>\n",
       "    <tr>\n",
       "      <th>1</th>\n",
       "      <td>943</td>\n",
       "      <td>accumanst@gmail.com</td>\n",
       "      <td>ижевск</td>\n",
       "      <td>2019-01-10 12:16:22</td>\n",
       "      <td>100.0</td>\n",
       "      <td>0.0</td>\n",
       "      <td>2019-01-10 12:16:22</td>\n",
       "      <td>3.0</td>\n",
       "      <td>день</td>\n",
       "      <td>-100.0</td>\n",
       "    </tr>\n",
       "    <tr>\n",
       "      <th>2</th>\n",
       "      <td>943</td>\n",
       "      <td>accumanst@gmail.com</td>\n",
       "      <td>ижевск</td>\n",
       "      <td>2019-01-27 1:18:47</td>\n",
       "      <td>100.0</td>\n",
       "      <td>0.0</td>\n",
       "      <td>2019-01-27 01:18:47</td>\n",
       "      <td>6.0</td>\n",
       "      <td>ночь</td>\n",
       "      <td>-100.0</td>\n",
       "    </tr>\n",
       "    <tr>\n",
       "      <th>3</th>\n",
       "      <td>943</td>\n",
       "      <td>accumanst@gmail.com</td>\n",
       "      <td>ижевск</td>\n",
       "      <td>2019-02-10 11:09:24</td>\n",
       "      <td>100.0</td>\n",
       "      <td>5456.0</td>\n",
       "      <td>2019-02-10 11:09:24</td>\n",
       "      <td>6.0</td>\n",
       "      <td>утро</td>\n",
       "      <td>5356.0</td>\n",
       "    </tr>\n",
       "    <tr>\n",
       "      <th>4</th>\n",
       "      <td>943</td>\n",
       "      <td>accumanst@gmail.com</td>\n",
       "      <td>ижевск</td>\n",
       "      <td>2019-02-12 15:09:38</td>\n",
       "      <td>300.0</td>\n",
       "      <td>5245.0</td>\n",
       "      <td>2019-02-12 15:09:38</td>\n",
       "      <td>1.0</td>\n",
       "      <td>день</td>\n",
       "      <td>4945.0</td>\n",
       "    </tr>\n",
       "  </tbody>\n",
       "</table>\n",
       "</div>"
      ],
      "text/plain": [
       "   user_id                email    city                 time    bet     win  \\\n",
       "0      943  accumanst@gmail.com  ижевск  2019-01-06 21:06:57    0.0     0.0   \n",
       "1      943  accumanst@gmail.com  ижевск  2019-01-10 12:16:22  100.0     0.0   \n",
       "2      943  accumanst@gmail.com  ижевск   2019-01-27 1:18:47  100.0     0.0   \n",
       "3      943  accumanst@gmail.com  ижевск  2019-02-10 11:09:24  100.0  5456.0   \n",
       "4      943  accumanst@gmail.com  ижевск  2019-02-12 15:09:38  300.0  5245.0   \n",
       "\n",
       "             datetime  weekday daytime     net  \n",
       "0 2019-01-06 21:06:57      6.0   вечер     0.0  \n",
       "1 2019-01-10 12:16:22      3.0    день  -100.0  \n",
       "2 2019-01-27 01:18:47      6.0    ночь  -100.0  \n",
       "3 2019-02-10 11:09:24      6.0    утро  5356.0  \n",
       "4 2019-02-12 15:09:38      1.0    день  4945.0  "
      ]
     },
     "execution_count": 207,
     "metadata": {},
     "output_type": "execute_result"
    }
   ],
   "source": [
    "merged.head()"
   ]
  },
  {
   "cell_type": "markdown",
   "metadata": {},
   "source": [
    "Задание 1\n",
    "1 point possible (graded)\n",
    "Используйте датасет, который получился в результате всех преобразований в прошлой секции (в том числе, заполнение пропусков).\n",
    "\n",
    "Ответ запишите в поле ниже в виде одного слова, с большой буквы.\n",
    "\n",
    "Наибольший суммарный выигрыш среди всех городов имеет Москва. Посчитайте следующий за ней город. Для этого сгруппируйте по городам, возьмите признак win, просуммируйте по каждому городу, отсортируйте и получите второй город."
   ]
  },
  {
   "cell_type": "code",
   "execution_count": 213,
   "metadata": {},
   "outputs": [
    {
     "data": {
      "text/plain": [
       "city\n",
       "москва             11959741.0\n",
       "воронеж              184338.0\n",
       "санкт-петербург      151007.0\n",
       "казань                97806.0\n",
       "ярославль             97441.0\n",
       "ижевск                84895.0\n",
       "красноярск            84767.0\n",
       "арзангелтск           74375.0\n",
       "пермь                 67734.0\n",
       "хабаровск             65459.0\n",
       "краснодар             62718.0\n",
       "ставрополь            46003.0\n",
       "                      45361.0\n",
       "екатеринбург          36682.0\n",
       "тюмень                 4701.0\n",
       "Name: win, dtype: float64"
      ]
     },
     "execution_count": 213,
     "metadata": {},
     "output_type": "execute_result"
    }
   ],
   "source": [
    "merged.groupby('city').win.sum().sort_values(ascending=False)"
   ]
  },
  {
   "cell_type": "markdown",
   "metadata": {},
   "source": [
    "Задание 2*\n",
    "1 point possible (graded)\n",
    "Используйте датасет, который получился в результате всех преобразований в прошлой секции (в том числе, заполнение пропусков).\n",
    "\n",
    "Ответ запишите в поле ниже в виде целого числа (нужно отбросить дробную часть).\n",
    "\n",
    "Подсказка: можно использовать методы min() и max().\n",
    "\n",
    "Во сколько раз различаются в среднем максимальная и минимальная ставки по городам? Для того, чтобы это посчитать, нужно сгруппировать по городам, взять среднее от признака bet, найти максимальное и минимальное значения, затем поделить одно на другое."
   ]
  },
  {
   "cell_type": "code",
   "execution_count": 223,
   "metadata": {},
   "outputs": [
    {
     "data": {
      "text/plain": [
       "227"
      ]
     },
     "execution_count": 223,
     "metadata": {},
     "output_type": "execute_result"
    }
   ],
   "source": [
    "tmp_df = merged.groupby('city').bet.mean()\n",
    "math.trunc(max(tmp_df)/min(tmp_df))"
   ]
  },
  {
   "cell_type": "code",
   "execution_count": null,
   "metadata": {},
   "outputs": [],
   "source": []
  }
 ],
 "metadata": {
  "kernelspec": {
   "display_name": "Python 3",
   "language": "python",
   "name": "python3"
  },
  "language_info": {
   "codemirror_mode": {
    "name": "ipython",
    "version": 3
   },
   "file_extension": ".py",
   "mimetype": "text/x-python",
   "name": "python",
   "nbconvert_exporter": "python",
   "pygments_lexer": "ipython3",
   "version": "3.7.3"
  }
 },
 "nbformat": 4,
 "nbformat_minor": 2
}
